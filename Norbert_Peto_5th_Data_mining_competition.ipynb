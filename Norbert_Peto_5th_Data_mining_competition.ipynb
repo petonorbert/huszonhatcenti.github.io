{
  "nbformat": 4,
  "nbformat_minor": 0,
  "metadata": {
    "colab": {
      "name": "Norbert_Peto_5th_Data_mining_competition.ipynb",
      "provenance": [],
      "toc_visible": true,
      "collapsed_sections": [
        "gDZuPUsdlSdm",
        "hhehSd-ILPzh"
      ],
      "include_colab_link": true
    },
    "kernelspec": {
      "name": "python3",
      "display_name": "Python 3"
    },
    "language_info": {
      "name": "python"
    }
  },
  "cells": [
    {
      "cell_type": "markdown",
      "metadata": {
        "id": "view-in-github",
        "colab_type": "text"
      },
      "source": [
        "<a href=\"https://colab.research.google.com/github/petonorbert/petonorbert.github.io/blob/master/Norbert_Peto_5th_Data_mining_competition.ipynb\" target=\"_parent\"><img src=\"https://colab.research.google.com/assets/colab-badge.svg\" alt=\"Open In Colab\"/></a>"
      ]
    },
    {
      "cell_type": "markdown",
      "source": [
        "# Data Mining 5th competition\n",
        "\n",
        "2022 05\n",
        "\n",
        "Norbert Pető"
      ],
      "metadata": {
        "id": "ZNGarIYUFABa"
      }
    },
    {
      "cell_type": "markdown",
      "source": [
        "## Rules\n",
        "\n",
        "For the final challenge, there will be only one competition.\n",
        "\n",
        "Goal: predict the binary labels for the whole dataset.\n",
        "Metric: balanced accuracy.\n",
        "\n",
        "Rules\n",
        "\n",
        "*You can only use unsupervised/self-supervised methods*. For 500 records, the labels are provided; you can use those for evaluating models, but not training. Apart from that, you can use any models and techniques that you see fit.\n",
        "You can have up to three submissions, and the best of those will count for the final challenge. Your submissions *must have* the same format as comp_5_sample_submission.csv (containing either a 'yes' or 'no' in each column, in the order the dataset is originally given, without row numbers or headers), and it must have your name in the filename.\n"
      ],
      "metadata": {
        "id": "LGqVSEtLFSfx"
      }
    },
    {
      "cell_type": "markdown",
      "source": [
        "--- ---"
      ],
      "metadata": {
        "id": "KRMzMp28IFZq"
      }
    },
    {
      "cell_type": "markdown",
      "source": [
        "## Data description\n",
        "\n",
        "    Age (numeric)\n",
        "    Job : type of job (categorical: 'admin.', 'blue-collar', 'entrepreneur', 'housemaid', 'management', \n",
        "    'retired', 'self-employed', 'services', 'student', 'technician', 'unemployed', 'unknown')\n",
        "    Marital : marital status (categorical: 'divorced', 'married', 'single',\n",
        "     'unknown' ; note: 'divorced' means divorced or widowed)\n",
        "    Education (categorical: 'basic.4y', 'basic.6y', 'basic.9y', 'high.school',\n",
        "     'illiterate', 'professional.course', 'university.degree', 'unknown')\n",
        "    Default: has credit in default? (categorical: 'no', 'yes', 'unknown')\n",
        "    Housing: has housing loan? (categorical: 'no', 'yes', 'unknown')\n",
        "    Loan: has personal loan? (categorical: 'no', 'yes', 'unknown')\n",
        "\n",
        "Related with the last contact of the current campaign:\n",
        "\n",
        "    Contact: contact communication type (categorical: 'cellular','telephone')\n",
        "    Month: last contact month of year (categorical: 'jan', 'feb', 'mar', …, 'nov', 'dec')\n",
        "    Dayofweek: last contact day of the week (categorical: 'mon','tue','wed','thu','fri')\n",
        "\n",
        "Other attributes:\n",
        "\n",
        "    Campaign: number of contacts performed during this campaign and for\n",
        "    this client (numeric, includes last contact)\n",
        "    Pdays: number of days that passed by after the client was last    \n",
        "    contacted from a previous campaign (numeric; 999 means client was not\n",
        "    previously contacted)\n",
        "    Previous: number of contacts performed before this campaign and for\n",
        "    this client (numeric)\n",
        "    Poutcome: outcome of the previous marketing campaign (categorical:\n",
        "    'failure','nonexistent','success')\n",
        "\n",
        "Social and economic context attributes\n",
        "\n",
        "    Emp.var.rate: employment variation rate - quarterly indicator\n",
        "    (numeric)\n",
        "    Cons.price.idx: consumer price index - monthly indicator (numeric)\n",
        "    Cons.conf.idx: consumer confidence index - monthly indicator\n",
        "    (numeric)\n",
        "    Euribor3m: euribor 3 month rate - daily indicator (numeric)\n",
        "    Nr.employed: number of employees - quarterly indicator (numeric)\n",
        "\n",
        "Output variable (desired target): has the client subscribed a term deposit? (binary: 'yes', 'no')"
      ],
      "metadata": {
        "id": "hExGv20GFt3A"
      }
    },
    {
      "cell_type": "markdown",
      "source": [
        "--- ---"
      ],
      "metadata": {
        "id": "DaK55LYIIDJ4"
      }
    },
    {
      "cell_type": "markdown",
      "source": [
        "## Import toolsets and data"
      ],
      "metadata": {
        "id": "z4xN-bTVGxB4"
      }
    },
    {
      "cell_type": "code",
      "source": [
        "import pandas as pd\n",
        "import numpy as np\n",
        "import matplotlib.pyplot as plt\n",
        "from time import time\n",
        "\n",
        "from sklearn.metrics import accuracy_score, confusion_matrix\n",
        "from sklearn.metrics import ConfusionMatrixDisplay as cm_disp\n",
        "import sklearn as skl\n",
        "from sklearn.cluster import KMeans, DBSCAN\n",
        "\n",
        "from sklearn.preprocessing import StandardScaler\n",
        "from sklearn.model_selection import RandomizedSearchCV"
      ],
      "metadata": {
        "id": "7r3lsy6NIyDq"
      },
      "execution_count": null,
      "outputs": []
    },
    {
      "cell_type": "code",
      "execution_count": null,
      "metadata": {
        "id": "_DyxEsMEHdfy"
      },
      "outputs": [],
      "source": [
        "url_train=\"https://drive.google.com/file/d/1VfQBsxnGkUZsP9V4vLlTltmGwwXY4z4L/view?usp=sharing\"\n",
        "url_labels=\"https://drive.google.com/file/d/1QXRR7XPhdaha4WMegcNuMQjCZuYMelhu/view?usp=sharing\"\n",
        "url_train='https://drive.google.com/uc?id='+url_train.split('/')[-2]\n",
        "df_train = pd.read_csv(url_train)\n",
        "url_labels='https://drive.google.com/uc?id='+url_labels.split('/')[-2]\n",
        "df_labels=pd.read_csv(url_labels, names=[\"labels\"])"
      ]
    },
    {
      "cell_type": "code",
      "source": [
        "df_train.head(-10)"
      ],
      "metadata": {
        "colab": {
          "base_uri": "https://localhost:8080/",
          "height": 488
        },
        "id": "5bm19CkHc-YB",
        "outputId": "15754c37-cdfe-47f3-a21e-20b8b5f4d6f3"
      },
      "execution_count": null,
      "outputs": [
        {
          "output_type": "execute_result",
          "data": {
            "text/plain": [
              "       age        job   marital            education default housing loan  \\\n",
              "0       56  housemaid   married             basic.4y      no      no   no   \n",
              "1       37   services   married          high.school      no     yes   no   \n",
              "2       40     admin.   married             basic.6y      no      no   no   \n",
              "3       56   services   married          high.school      no      no  yes   \n",
              "4       59     admin.   married  professional.course      no      no   no   \n",
              "...    ...        ...       ...                  ...     ...     ...  ...   \n",
              "30473   31     admin.    single    university.degree      no     yes   no   \n",
              "30474   62    retired   married    university.degree      no     yes   no   \n",
              "30475   62    retired   married    university.degree      no     yes   no   \n",
              "30476   38  housemaid  divorced          high.school      no     yes  yes   \n",
              "30477   57    retired   married  professional.course      no     yes   no   \n",
              "\n",
              "         contact month day_of_week  campaign  pdays  previous     poutcome  \\\n",
              "0      telephone   may         mon         1    999         0  nonexistent   \n",
              "1      telephone   may         mon         1    999         0  nonexistent   \n",
              "2      telephone   may         mon         1    999         0  nonexistent   \n",
              "3      telephone   may         mon         1    999         0  nonexistent   \n",
              "4      telephone   may         mon         1    999         0  nonexistent   \n",
              "...          ...   ...         ...       ...    ...       ...          ...   \n",
              "30473   cellular   nov         thu         1    999         0  nonexistent   \n",
              "30474   cellular   nov         thu         1    999         2      failure   \n",
              "30475   cellular   nov         thu         1      1         6      success   \n",
              "30476   cellular   nov         thu         1    999         0  nonexistent   \n",
              "30477   cellular   nov         thu         6    999         0  nonexistent   \n",
              "\n",
              "       emp.var.rate  cons.price.idx  cons.conf.idx  euribor3m  nr.employed  \n",
              "0               1.1          93.994          -36.4      4.857       5191.0  \n",
              "1               1.1          93.994          -36.4      4.857       5191.0  \n",
              "2               1.1          93.994          -36.4      4.857       5191.0  \n",
              "3               1.1          93.994          -36.4      4.857       5191.0  \n",
              "4               1.1          93.994          -36.4      4.857       5191.0  \n",
              "...             ...             ...            ...        ...          ...  \n",
              "30473          -1.1          94.767          -50.8      1.031       4963.6  \n",
              "30474          -1.1          94.767          -50.8      1.031       4963.6  \n",
              "30475          -1.1          94.767          -50.8      1.031       4963.6  \n",
              "30476          -1.1          94.767          -50.8      1.031       4963.6  \n",
              "30477          -1.1          94.767          -50.8      1.031       4963.6  \n",
              "\n",
              "[30478 rows x 19 columns]"
            ],
            "text/html": [
              "\n",
              "  <div id=\"df-140ba7aa-9ffe-43a1-b03a-6c681ac20874\">\n",
              "    <div class=\"colab-df-container\">\n",
              "      <div>\n",
              "<style scoped>\n",
              "    .dataframe tbody tr th:only-of-type {\n",
              "        vertical-align: middle;\n",
              "    }\n",
              "\n",
              "    .dataframe tbody tr th {\n",
              "        vertical-align: top;\n",
              "    }\n",
              "\n",
              "    .dataframe thead th {\n",
              "        text-align: right;\n",
              "    }\n",
              "</style>\n",
              "<table border=\"1\" class=\"dataframe\">\n",
              "  <thead>\n",
              "    <tr style=\"text-align: right;\">\n",
              "      <th></th>\n",
              "      <th>age</th>\n",
              "      <th>job</th>\n",
              "      <th>marital</th>\n",
              "      <th>education</th>\n",
              "      <th>default</th>\n",
              "      <th>housing</th>\n",
              "      <th>loan</th>\n",
              "      <th>contact</th>\n",
              "      <th>month</th>\n",
              "      <th>day_of_week</th>\n",
              "      <th>campaign</th>\n",
              "      <th>pdays</th>\n",
              "      <th>previous</th>\n",
              "      <th>poutcome</th>\n",
              "      <th>emp.var.rate</th>\n",
              "      <th>cons.price.idx</th>\n",
              "      <th>cons.conf.idx</th>\n",
              "      <th>euribor3m</th>\n",
              "      <th>nr.employed</th>\n",
              "    </tr>\n",
              "  </thead>\n",
              "  <tbody>\n",
              "    <tr>\n",
              "      <th>0</th>\n",
              "      <td>56</td>\n",
              "      <td>housemaid</td>\n",
              "      <td>married</td>\n",
              "      <td>basic.4y</td>\n",
              "      <td>no</td>\n",
              "      <td>no</td>\n",
              "      <td>no</td>\n",
              "      <td>telephone</td>\n",
              "      <td>may</td>\n",
              "      <td>mon</td>\n",
              "      <td>1</td>\n",
              "      <td>999</td>\n",
              "      <td>0</td>\n",
              "      <td>nonexistent</td>\n",
              "      <td>1.1</td>\n",
              "      <td>93.994</td>\n",
              "      <td>-36.4</td>\n",
              "      <td>4.857</td>\n",
              "      <td>5191.0</td>\n",
              "    </tr>\n",
              "    <tr>\n",
              "      <th>1</th>\n",
              "      <td>37</td>\n",
              "      <td>services</td>\n",
              "      <td>married</td>\n",
              "      <td>high.school</td>\n",
              "      <td>no</td>\n",
              "      <td>yes</td>\n",
              "      <td>no</td>\n",
              "      <td>telephone</td>\n",
              "      <td>may</td>\n",
              "      <td>mon</td>\n",
              "      <td>1</td>\n",
              "      <td>999</td>\n",
              "      <td>0</td>\n",
              "      <td>nonexistent</td>\n",
              "      <td>1.1</td>\n",
              "      <td>93.994</td>\n",
              "      <td>-36.4</td>\n",
              "      <td>4.857</td>\n",
              "      <td>5191.0</td>\n",
              "    </tr>\n",
              "    <tr>\n",
              "      <th>2</th>\n",
              "      <td>40</td>\n",
              "      <td>admin.</td>\n",
              "      <td>married</td>\n",
              "      <td>basic.6y</td>\n",
              "      <td>no</td>\n",
              "      <td>no</td>\n",
              "      <td>no</td>\n",
              "      <td>telephone</td>\n",
              "      <td>may</td>\n",
              "      <td>mon</td>\n",
              "      <td>1</td>\n",
              "      <td>999</td>\n",
              "      <td>0</td>\n",
              "      <td>nonexistent</td>\n",
              "      <td>1.1</td>\n",
              "      <td>93.994</td>\n",
              "      <td>-36.4</td>\n",
              "      <td>4.857</td>\n",
              "      <td>5191.0</td>\n",
              "    </tr>\n",
              "    <tr>\n",
              "      <th>3</th>\n",
              "      <td>56</td>\n",
              "      <td>services</td>\n",
              "      <td>married</td>\n",
              "      <td>high.school</td>\n",
              "      <td>no</td>\n",
              "      <td>no</td>\n",
              "      <td>yes</td>\n",
              "      <td>telephone</td>\n",
              "      <td>may</td>\n",
              "      <td>mon</td>\n",
              "      <td>1</td>\n",
              "      <td>999</td>\n",
              "      <td>0</td>\n",
              "      <td>nonexistent</td>\n",
              "      <td>1.1</td>\n",
              "      <td>93.994</td>\n",
              "      <td>-36.4</td>\n",
              "      <td>4.857</td>\n",
              "      <td>5191.0</td>\n",
              "    </tr>\n",
              "    <tr>\n",
              "      <th>4</th>\n",
              "      <td>59</td>\n",
              "      <td>admin.</td>\n",
              "      <td>married</td>\n",
              "      <td>professional.course</td>\n",
              "      <td>no</td>\n",
              "      <td>no</td>\n",
              "      <td>no</td>\n",
              "      <td>telephone</td>\n",
              "      <td>may</td>\n",
              "      <td>mon</td>\n",
              "      <td>1</td>\n",
              "      <td>999</td>\n",
              "      <td>0</td>\n",
              "      <td>nonexistent</td>\n",
              "      <td>1.1</td>\n",
              "      <td>93.994</td>\n",
              "      <td>-36.4</td>\n",
              "      <td>4.857</td>\n",
              "      <td>5191.0</td>\n",
              "    </tr>\n",
              "    <tr>\n",
              "      <th>...</th>\n",
              "      <td>...</td>\n",
              "      <td>...</td>\n",
              "      <td>...</td>\n",
              "      <td>...</td>\n",
              "      <td>...</td>\n",
              "      <td>...</td>\n",
              "      <td>...</td>\n",
              "      <td>...</td>\n",
              "      <td>...</td>\n",
              "      <td>...</td>\n",
              "      <td>...</td>\n",
              "      <td>...</td>\n",
              "      <td>...</td>\n",
              "      <td>...</td>\n",
              "      <td>...</td>\n",
              "      <td>...</td>\n",
              "      <td>...</td>\n",
              "      <td>...</td>\n",
              "      <td>...</td>\n",
              "    </tr>\n",
              "    <tr>\n",
              "      <th>30473</th>\n",
              "      <td>31</td>\n",
              "      <td>admin.</td>\n",
              "      <td>single</td>\n",
              "      <td>university.degree</td>\n",
              "      <td>no</td>\n",
              "      <td>yes</td>\n",
              "      <td>no</td>\n",
              "      <td>cellular</td>\n",
              "      <td>nov</td>\n",
              "      <td>thu</td>\n",
              "      <td>1</td>\n",
              "      <td>999</td>\n",
              "      <td>0</td>\n",
              "      <td>nonexistent</td>\n",
              "      <td>-1.1</td>\n",
              "      <td>94.767</td>\n",
              "      <td>-50.8</td>\n",
              "      <td>1.031</td>\n",
              "      <td>4963.6</td>\n",
              "    </tr>\n",
              "    <tr>\n",
              "      <th>30474</th>\n",
              "      <td>62</td>\n",
              "      <td>retired</td>\n",
              "      <td>married</td>\n",
              "      <td>university.degree</td>\n",
              "      <td>no</td>\n",
              "      <td>yes</td>\n",
              "      <td>no</td>\n",
              "      <td>cellular</td>\n",
              "      <td>nov</td>\n",
              "      <td>thu</td>\n",
              "      <td>1</td>\n",
              "      <td>999</td>\n",
              "      <td>2</td>\n",
              "      <td>failure</td>\n",
              "      <td>-1.1</td>\n",
              "      <td>94.767</td>\n",
              "      <td>-50.8</td>\n",
              "      <td>1.031</td>\n",
              "      <td>4963.6</td>\n",
              "    </tr>\n",
              "    <tr>\n",
              "      <th>30475</th>\n",
              "      <td>62</td>\n",
              "      <td>retired</td>\n",
              "      <td>married</td>\n",
              "      <td>university.degree</td>\n",
              "      <td>no</td>\n",
              "      <td>yes</td>\n",
              "      <td>no</td>\n",
              "      <td>cellular</td>\n",
              "      <td>nov</td>\n",
              "      <td>thu</td>\n",
              "      <td>1</td>\n",
              "      <td>1</td>\n",
              "      <td>6</td>\n",
              "      <td>success</td>\n",
              "      <td>-1.1</td>\n",
              "      <td>94.767</td>\n",
              "      <td>-50.8</td>\n",
              "      <td>1.031</td>\n",
              "      <td>4963.6</td>\n",
              "    </tr>\n",
              "    <tr>\n",
              "      <th>30476</th>\n",
              "      <td>38</td>\n",
              "      <td>housemaid</td>\n",
              "      <td>divorced</td>\n",
              "      <td>high.school</td>\n",
              "      <td>no</td>\n",
              "      <td>yes</td>\n",
              "      <td>yes</td>\n",
              "      <td>cellular</td>\n",
              "      <td>nov</td>\n",
              "      <td>thu</td>\n",
              "      <td>1</td>\n",
              "      <td>999</td>\n",
              "      <td>0</td>\n",
              "      <td>nonexistent</td>\n",
              "      <td>-1.1</td>\n",
              "      <td>94.767</td>\n",
              "      <td>-50.8</td>\n",
              "      <td>1.031</td>\n",
              "      <td>4963.6</td>\n",
              "    </tr>\n",
              "    <tr>\n",
              "      <th>30477</th>\n",
              "      <td>57</td>\n",
              "      <td>retired</td>\n",
              "      <td>married</td>\n",
              "      <td>professional.course</td>\n",
              "      <td>no</td>\n",
              "      <td>yes</td>\n",
              "      <td>no</td>\n",
              "      <td>cellular</td>\n",
              "      <td>nov</td>\n",
              "      <td>thu</td>\n",
              "      <td>6</td>\n",
              "      <td>999</td>\n",
              "      <td>0</td>\n",
              "      <td>nonexistent</td>\n",
              "      <td>-1.1</td>\n",
              "      <td>94.767</td>\n",
              "      <td>-50.8</td>\n",
              "      <td>1.031</td>\n",
              "      <td>4963.6</td>\n",
              "    </tr>\n",
              "  </tbody>\n",
              "</table>\n",
              "<p>30478 rows × 19 columns</p>\n",
              "</div>\n",
              "      <button class=\"colab-df-convert\" onclick=\"convertToInteractive('df-140ba7aa-9ffe-43a1-b03a-6c681ac20874')\"\n",
              "              title=\"Convert this dataframe to an interactive table.\"\n",
              "              style=\"display:none;\">\n",
              "        \n",
              "  <svg xmlns=\"http://www.w3.org/2000/svg\" height=\"24px\"viewBox=\"0 0 24 24\"\n",
              "       width=\"24px\">\n",
              "    <path d=\"M0 0h24v24H0V0z\" fill=\"none\"/>\n",
              "    <path d=\"M18.56 5.44l.94 2.06.94-2.06 2.06-.94-2.06-.94-.94-2.06-.94 2.06-2.06.94zm-11 1L8.5 8.5l.94-2.06 2.06-.94-2.06-.94L8.5 2.5l-.94 2.06-2.06.94zm10 10l.94 2.06.94-2.06 2.06-.94-2.06-.94-.94-2.06-.94 2.06-2.06.94z\"/><path d=\"M17.41 7.96l-1.37-1.37c-.4-.4-.92-.59-1.43-.59-.52 0-1.04.2-1.43.59L10.3 9.45l-7.72 7.72c-.78.78-.78 2.05 0 2.83L4 21.41c.39.39.9.59 1.41.59.51 0 1.02-.2 1.41-.59l7.78-7.78 2.81-2.81c.8-.78.8-2.07 0-2.86zM5.41 20L4 18.59l7.72-7.72 1.47 1.35L5.41 20z\"/>\n",
              "  </svg>\n",
              "      </button>\n",
              "      \n",
              "  <style>\n",
              "    .colab-df-container {\n",
              "      display:flex;\n",
              "      flex-wrap:wrap;\n",
              "      gap: 12px;\n",
              "    }\n",
              "\n",
              "    .colab-df-convert {\n",
              "      background-color: #E8F0FE;\n",
              "      border: none;\n",
              "      border-radius: 50%;\n",
              "      cursor: pointer;\n",
              "      display: none;\n",
              "      fill: #1967D2;\n",
              "      height: 32px;\n",
              "      padding: 0 0 0 0;\n",
              "      width: 32px;\n",
              "    }\n",
              "\n",
              "    .colab-df-convert:hover {\n",
              "      background-color: #E2EBFA;\n",
              "      box-shadow: 0px 1px 2px rgba(60, 64, 67, 0.3), 0px 1px 3px 1px rgba(60, 64, 67, 0.15);\n",
              "      fill: #174EA6;\n",
              "    }\n",
              "\n",
              "    [theme=dark] .colab-df-convert {\n",
              "      background-color: #3B4455;\n",
              "      fill: #D2E3FC;\n",
              "    }\n",
              "\n",
              "    [theme=dark] .colab-df-convert:hover {\n",
              "      background-color: #434B5C;\n",
              "      box-shadow: 0px 1px 3px 1px rgba(0, 0, 0, 0.15);\n",
              "      filter: drop-shadow(0px 1px 2px rgba(0, 0, 0, 0.3));\n",
              "      fill: #FFFFFF;\n",
              "    }\n",
              "  </style>\n",
              "\n",
              "      <script>\n",
              "        const buttonEl =\n",
              "          document.querySelector('#df-140ba7aa-9ffe-43a1-b03a-6c681ac20874 button.colab-df-convert');\n",
              "        buttonEl.style.display =\n",
              "          google.colab.kernel.accessAllowed ? 'block' : 'none';\n",
              "\n",
              "        async function convertToInteractive(key) {\n",
              "          const element = document.querySelector('#df-140ba7aa-9ffe-43a1-b03a-6c681ac20874');\n",
              "          const dataTable =\n",
              "            await google.colab.kernel.invokeFunction('convertToInteractive',\n",
              "                                                     [key], {});\n",
              "          if (!dataTable) return;\n",
              "\n",
              "          const docLinkHtml = 'Like what you see? Visit the ' +\n",
              "            '<a target=\"_blank\" href=https://colab.research.google.com/notebooks/data_table.ipynb>data table notebook</a>'\n",
              "            + ' to learn more about interactive tables.';\n",
              "          element.innerHTML = '';\n",
              "          dataTable['output_type'] = 'display_data';\n",
              "          await google.colab.output.renderOutput(dataTable, element);\n",
              "          const docLink = document.createElement('div');\n",
              "          docLink.innerHTML = docLinkHtml;\n",
              "          element.appendChild(docLink);\n",
              "        }\n",
              "      </script>\n",
              "    </div>\n",
              "  </div>\n",
              "  "
            ]
          },
          "metadata": {},
          "execution_count": 3
        }
      ]
    },
    {
      "cell_type": "code",
      "source": [
        "df_train[df_train.loan==\"unknown\"]"
      ],
      "metadata": {
        "colab": {
          "base_uri": "https://localhost:8080/",
          "height": 113
        },
        "id": "fhxF5u6F_JFF",
        "outputId": "39e997c3-1e1d-405c-fcb6-07a71c82f2b0"
      },
      "execution_count": null,
      "outputs": [
        {
          "output_type": "execute_result",
          "data": {
            "text/plain": [
              "Empty DataFrame\n",
              "Columns: [age, job, marital, education, default, housing, loan, contact, month, day_of_week, campaign, pdays, previous, poutcome, emp.var.rate, cons.price.idx, cons.conf.idx, euribor3m, nr.employed]\n",
              "Index: []"
            ],
            "text/html": [
              "\n",
              "  <div id=\"df-e877aa98-2562-47b3-89c3-5d1da628e457\">\n",
              "    <div class=\"colab-df-container\">\n",
              "      <div>\n",
              "<style scoped>\n",
              "    .dataframe tbody tr th:only-of-type {\n",
              "        vertical-align: middle;\n",
              "    }\n",
              "\n",
              "    .dataframe tbody tr th {\n",
              "        vertical-align: top;\n",
              "    }\n",
              "\n",
              "    .dataframe thead th {\n",
              "        text-align: right;\n",
              "    }\n",
              "</style>\n",
              "<table border=\"1\" class=\"dataframe\">\n",
              "  <thead>\n",
              "    <tr style=\"text-align: right;\">\n",
              "      <th></th>\n",
              "      <th>age</th>\n",
              "      <th>job</th>\n",
              "      <th>marital</th>\n",
              "      <th>education</th>\n",
              "      <th>default</th>\n",
              "      <th>housing</th>\n",
              "      <th>loan</th>\n",
              "      <th>contact</th>\n",
              "      <th>month</th>\n",
              "      <th>day_of_week</th>\n",
              "      <th>campaign</th>\n",
              "      <th>pdays</th>\n",
              "      <th>previous</th>\n",
              "      <th>poutcome</th>\n",
              "      <th>emp.var.rate</th>\n",
              "      <th>cons.price.idx</th>\n",
              "      <th>cons.conf.idx</th>\n",
              "      <th>euribor3m</th>\n",
              "      <th>nr.employed</th>\n",
              "    </tr>\n",
              "  </thead>\n",
              "  <tbody>\n",
              "  </tbody>\n",
              "</table>\n",
              "</div>\n",
              "      <button class=\"colab-df-convert\" onclick=\"convertToInteractive('df-e877aa98-2562-47b3-89c3-5d1da628e457')\"\n",
              "              title=\"Convert this dataframe to an interactive table.\"\n",
              "              style=\"display:none;\">\n",
              "        \n",
              "  <svg xmlns=\"http://www.w3.org/2000/svg\" height=\"24px\"viewBox=\"0 0 24 24\"\n",
              "       width=\"24px\">\n",
              "    <path d=\"M0 0h24v24H0V0z\" fill=\"none\"/>\n",
              "    <path d=\"M18.56 5.44l.94 2.06.94-2.06 2.06-.94-2.06-.94-.94-2.06-.94 2.06-2.06.94zm-11 1L8.5 8.5l.94-2.06 2.06-.94-2.06-.94L8.5 2.5l-.94 2.06-2.06.94zm10 10l.94 2.06.94-2.06 2.06-.94-2.06-.94-.94-2.06-.94 2.06-2.06.94z\"/><path d=\"M17.41 7.96l-1.37-1.37c-.4-.4-.92-.59-1.43-.59-.52 0-1.04.2-1.43.59L10.3 9.45l-7.72 7.72c-.78.78-.78 2.05 0 2.83L4 21.41c.39.39.9.59 1.41.59.51 0 1.02-.2 1.41-.59l7.78-7.78 2.81-2.81c.8-.78.8-2.07 0-2.86zM5.41 20L4 18.59l7.72-7.72 1.47 1.35L5.41 20z\"/>\n",
              "  </svg>\n",
              "      </button>\n",
              "      \n",
              "  <style>\n",
              "    .colab-df-container {\n",
              "      display:flex;\n",
              "      flex-wrap:wrap;\n",
              "      gap: 12px;\n",
              "    }\n",
              "\n",
              "    .colab-df-convert {\n",
              "      background-color: #E8F0FE;\n",
              "      border: none;\n",
              "      border-radius: 50%;\n",
              "      cursor: pointer;\n",
              "      display: none;\n",
              "      fill: #1967D2;\n",
              "      height: 32px;\n",
              "      padding: 0 0 0 0;\n",
              "      width: 32px;\n",
              "    }\n",
              "\n",
              "    .colab-df-convert:hover {\n",
              "      background-color: #E2EBFA;\n",
              "      box-shadow: 0px 1px 2px rgba(60, 64, 67, 0.3), 0px 1px 3px 1px rgba(60, 64, 67, 0.15);\n",
              "      fill: #174EA6;\n",
              "    }\n",
              "\n",
              "    [theme=dark] .colab-df-convert {\n",
              "      background-color: #3B4455;\n",
              "      fill: #D2E3FC;\n",
              "    }\n",
              "\n",
              "    [theme=dark] .colab-df-convert:hover {\n",
              "      background-color: #434B5C;\n",
              "      box-shadow: 0px 1px 3px 1px rgba(0, 0, 0, 0.15);\n",
              "      filter: drop-shadow(0px 1px 2px rgba(0, 0, 0, 0.3));\n",
              "      fill: #FFFFFF;\n",
              "    }\n",
              "  </style>\n",
              "\n",
              "      <script>\n",
              "        const buttonEl =\n",
              "          document.querySelector('#df-e877aa98-2562-47b3-89c3-5d1da628e457 button.colab-df-convert');\n",
              "        buttonEl.style.display =\n",
              "          google.colab.kernel.accessAllowed ? 'block' : 'none';\n",
              "\n",
              "        async function convertToInteractive(key) {\n",
              "          const element = document.querySelector('#df-e877aa98-2562-47b3-89c3-5d1da628e457');\n",
              "          const dataTable =\n",
              "            await google.colab.kernel.invokeFunction('convertToInteractive',\n",
              "                                                     [key], {});\n",
              "          if (!dataTable) return;\n",
              "\n",
              "          const docLinkHtml = 'Like what you see? Visit the ' +\n",
              "            '<a target=\"_blank\" href=https://colab.research.google.com/notebooks/data_table.ipynb>data table notebook</a>'\n",
              "            + ' to learn more about interactive tables.';\n",
              "          element.innerHTML = '';\n",
              "          dataTable['output_type'] = 'display_data';\n",
              "          await google.colab.output.renderOutput(dataTable, element);\n",
              "          const docLink = document.createElement('div');\n",
              "          docLink.innerHTML = docLinkHtml;\n",
              "          element.appendChild(docLink);\n",
              "        }\n",
              "      </script>\n",
              "    </div>\n",
              "  </div>\n",
              "  "
            ]
          },
          "metadata": {},
          "execution_count": 4
        }
      ]
    },
    {
      "cell_type": "markdown",
      "source": [
        "--- ---"
      ],
      "metadata": {
        "id": "Dkwr9EmOIAui"
      }
    },
    {
      "cell_type": "markdown",
      "source": [
        "## Descriptive data analysis"
      ],
      "metadata": {
        "id": "fyu7uZf6G8Bh"
      }
    },
    {
      "cell_type": "markdown",
      "source": [
        "### numerical and categorical feature identification"
      ],
      "metadata": {
        "id": "t7qc9G05HP9J"
      }
    },
    {
      "cell_type": "code",
      "source": [
        "cat_feat=list(df_train.columns[df_train.dtypes==object])\n",
        "num_feat=list(df_train.columns[df_train.dtypes!=object])\n",
        "print(cat_feat)\n",
        "print(num_feat)\n",
        "print(len(cat_feat), len(num_feat), len(df_train.columns))"
      ],
      "metadata": {
        "colab": {
          "base_uri": "https://localhost:8080/"
        },
        "id": "ooeUPvoSPo1V",
        "outputId": "8168b6e1-33e9-4f93-b64b-91bf379e74a7"
      },
      "execution_count": null,
      "outputs": [
        {
          "output_type": "stream",
          "name": "stdout",
          "text": [
            "['job', 'marital', 'education', 'default', 'housing', 'loan', 'contact', 'month', 'day_of_week', 'poutcome']\n",
            "['age', 'campaign', 'pdays', 'previous', 'emp.var.rate', 'cons.price.idx', 'cons.conf.idx', 'euribor3m', 'nr.employed']\n",
            "10 9 19\n"
          ]
        }
      ]
    },
    {
      "cell_type": "markdown",
      "source": [
        "--- ---"
      ],
      "metadata": {
        "id": "e6MlRq4wH93r"
      }
    },
    {
      "cell_type": "markdown",
      "source": [
        "### missing items"
      ],
      "metadata": {
        "id": "_Kb_V8nEHFw6"
      }
    },
    {
      "cell_type": "code",
      "source": [
        "missing_list=df_train.isna().sum()/len(df_train)*100\n",
        "missing_list=missing_list.sort_values()\n",
        "\n",
        "#print(\"\\nProportion of missing values by column:\\n\\n\", missing_list)\n",
        "\n",
        "miss_df=pd.DataFrame({\"missing_train_%\": missing_list, \"missing_train_qty\": df_train.isna().sum(),\n",
        "                      \"missing_label_%\": df_labels.isna().sum()/len(df_labels)*100, \"missing_label_qty\": df_labels.isna().sum()})\n",
        "miss_df"
      ],
      "metadata": {
        "colab": {
          "base_uri": "https://localhost:8080/",
          "height": 676
        },
        "id": "isz06AACJm5r",
        "outputId": "13057a1d-7c4d-4c65-8bcc-c65506ddb84c"
      },
      "execution_count": null,
      "outputs": [
        {
          "output_type": "execute_result",
          "data": {
            "text/plain": [
              "                missing_train_%  missing_train_qty  missing_label_%  \\\n",
              "age                         0.0                0.0              NaN   \n",
              "campaign                    0.0                0.0              NaN   \n",
              "cons.conf.idx               0.0                0.0              NaN   \n",
              "cons.price.idx              0.0                0.0              NaN   \n",
              "contact                     0.0                0.0              NaN   \n",
              "day_of_week                 0.0                0.0              NaN   \n",
              "default                     0.0                0.0              NaN   \n",
              "education                   0.0                0.0              NaN   \n",
              "emp.var.rate                0.0                0.0              NaN   \n",
              "euribor3m                   0.0                0.0              NaN   \n",
              "housing                     0.0                0.0              NaN   \n",
              "job                         0.0                0.0              NaN   \n",
              "labels                      NaN                NaN         98.36001   \n",
              "loan                        0.0                0.0              NaN   \n",
              "marital                     0.0                0.0              NaN   \n",
              "month                       0.0                0.0              NaN   \n",
              "nr.employed                 0.0                0.0              NaN   \n",
              "pdays                       0.0                0.0              NaN   \n",
              "poutcome                    0.0                0.0              NaN   \n",
              "previous                    0.0                0.0              NaN   \n",
              "\n",
              "                missing_label_qty  \n",
              "age                           NaN  \n",
              "campaign                      NaN  \n",
              "cons.conf.idx                 NaN  \n",
              "cons.price.idx                NaN  \n",
              "contact                       NaN  \n",
              "day_of_week                   NaN  \n",
              "default                       NaN  \n",
              "education                     NaN  \n",
              "emp.var.rate                  NaN  \n",
              "euribor3m                     NaN  \n",
              "housing                       NaN  \n",
              "job                           NaN  \n",
              "labels                    29988.0  \n",
              "loan                          NaN  \n",
              "marital                       NaN  \n",
              "month                         NaN  \n",
              "nr.employed                   NaN  \n",
              "pdays                         NaN  \n",
              "poutcome                      NaN  \n",
              "previous                      NaN  "
            ],
            "text/html": [
              "\n",
              "  <div id=\"df-7ee1603f-9ed5-4116-bb1f-6d36b16f212a\">\n",
              "    <div class=\"colab-df-container\">\n",
              "      <div>\n",
              "<style scoped>\n",
              "    .dataframe tbody tr th:only-of-type {\n",
              "        vertical-align: middle;\n",
              "    }\n",
              "\n",
              "    .dataframe tbody tr th {\n",
              "        vertical-align: top;\n",
              "    }\n",
              "\n",
              "    .dataframe thead th {\n",
              "        text-align: right;\n",
              "    }\n",
              "</style>\n",
              "<table border=\"1\" class=\"dataframe\">\n",
              "  <thead>\n",
              "    <tr style=\"text-align: right;\">\n",
              "      <th></th>\n",
              "      <th>missing_train_%</th>\n",
              "      <th>missing_train_qty</th>\n",
              "      <th>missing_label_%</th>\n",
              "      <th>missing_label_qty</th>\n",
              "    </tr>\n",
              "  </thead>\n",
              "  <tbody>\n",
              "    <tr>\n",
              "      <th>age</th>\n",
              "      <td>0.0</td>\n",
              "      <td>0.0</td>\n",
              "      <td>NaN</td>\n",
              "      <td>NaN</td>\n",
              "    </tr>\n",
              "    <tr>\n",
              "      <th>campaign</th>\n",
              "      <td>0.0</td>\n",
              "      <td>0.0</td>\n",
              "      <td>NaN</td>\n",
              "      <td>NaN</td>\n",
              "    </tr>\n",
              "    <tr>\n",
              "      <th>cons.conf.idx</th>\n",
              "      <td>0.0</td>\n",
              "      <td>0.0</td>\n",
              "      <td>NaN</td>\n",
              "      <td>NaN</td>\n",
              "    </tr>\n",
              "    <tr>\n",
              "      <th>cons.price.idx</th>\n",
              "      <td>0.0</td>\n",
              "      <td>0.0</td>\n",
              "      <td>NaN</td>\n",
              "      <td>NaN</td>\n",
              "    </tr>\n",
              "    <tr>\n",
              "      <th>contact</th>\n",
              "      <td>0.0</td>\n",
              "      <td>0.0</td>\n",
              "      <td>NaN</td>\n",
              "      <td>NaN</td>\n",
              "    </tr>\n",
              "    <tr>\n",
              "      <th>day_of_week</th>\n",
              "      <td>0.0</td>\n",
              "      <td>0.0</td>\n",
              "      <td>NaN</td>\n",
              "      <td>NaN</td>\n",
              "    </tr>\n",
              "    <tr>\n",
              "      <th>default</th>\n",
              "      <td>0.0</td>\n",
              "      <td>0.0</td>\n",
              "      <td>NaN</td>\n",
              "      <td>NaN</td>\n",
              "    </tr>\n",
              "    <tr>\n",
              "      <th>education</th>\n",
              "      <td>0.0</td>\n",
              "      <td>0.0</td>\n",
              "      <td>NaN</td>\n",
              "      <td>NaN</td>\n",
              "    </tr>\n",
              "    <tr>\n",
              "      <th>emp.var.rate</th>\n",
              "      <td>0.0</td>\n",
              "      <td>0.0</td>\n",
              "      <td>NaN</td>\n",
              "      <td>NaN</td>\n",
              "    </tr>\n",
              "    <tr>\n",
              "      <th>euribor3m</th>\n",
              "      <td>0.0</td>\n",
              "      <td>0.0</td>\n",
              "      <td>NaN</td>\n",
              "      <td>NaN</td>\n",
              "    </tr>\n",
              "    <tr>\n",
              "      <th>housing</th>\n",
              "      <td>0.0</td>\n",
              "      <td>0.0</td>\n",
              "      <td>NaN</td>\n",
              "      <td>NaN</td>\n",
              "    </tr>\n",
              "    <tr>\n",
              "      <th>job</th>\n",
              "      <td>0.0</td>\n",
              "      <td>0.0</td>\n",
              "      <td>NaN</td>\n",
              "      <td>NaN</td>\n",
              "    </tr>\n",
              "    <tr>\n",
              "      <th>labels</th>\n",
              "      <td>NaN</td>\n",
              "      <td>NaN</td>\n",
              "      <td>98.36001</td>\n",
              "      <td>29988.0</td>\n",
              "    </tr>\n",
              "    <tr>\n",
              "      <th>loan</th>\n",
              "      <td>0.0</td>\n",
              "      <td>0.0</td>\n",
              "      <td>NaN</td>\n",
              "      <td>NaN</td>\n",
              "    </tr>\n",
              "    <tr>\n",
              "      <th>marital</th>\n",
              "      <td>0.0</td>\n",
              "      <td>0.0</td>\n",
              "      <td>NaN</td>\n",
              "      <td>NaN</td>\n",
              "    </tr>\n",
              "    <tr>\n",
              "      <th>month</th>\n",
              "      <td>0.0</td>\n",
              "      <td>0.0</td>\n",
              "      <td>NaN</td>\n",
              "      <td>NaN</td>\n",
              "    </tr>\n",
              "    <tr>\n",
              "      <th>nr.employed</th>\n",
              "      <td>0.0</td>\n",
              "      <td>0.0</td>\n",
              "      <td>NaN</td>\n",
              "      <td>NaN</td>\n",
              "    </tr>\n",
              "    <tr>\n",
              "      <th>pdays</th>\n",
              "      <td>0.0</td>\n",
              "      <td>0.0</td>\n",
              "      <td>NaN</td>\n",
              "      <td>NaN</td>\n",
              "    </tr>\n",
              "    <tr>\n",
              "      <th>poutcome</th>\n",
              "      <td>0.0</td>\n",
              "      <td>0.0</td>\n",
              "      <td>NaN</td>\n",
              "      <td>NaN</td>\n",
              "    </tr>\n",
              "    <tr>\n",
              "      <th>previous</th>\n",
              "      <td>0.0</td>\n",
              "      <td>0.0</td>\n",
              "      <td>NaN</td>\n",
              "      <td>NaN</td>\n",
              "    </tr>\n",
              "  </tbody>\n",
              "</table>\n",
              "</div>\n",
              "      <button class=\"colab-df-convert\" onclick=\"convertToInteractive('df-7ee1603f-9ed5-4116-bb1f-6d36b16f212a')\"\n",
              "              title=\"Convert this dataframe to an interactive table.\"\n",
              "              style=\"display:none;\">\n",
              "        \n",
              "  <svg xmlns=\"http://www.w3.org/2000/svg\" height=\"24px\"viewBox=\"0 0 24 24\"\n",
              "       width=\"24px\">\n",
              "    <path d=\"M0 0h24v24H0V0z\" fill=\"none\"/>\n",
              "    <path d=\"M18.56 5.44l.94 2.06.94-2.06 2.06-.94-2.06-.94-.94-2.06-.94 2.06-2.06.94zm-11 1L8.5 8.5l.94-2.06 2.06-.94-2.06-.94L8.5 2.5l-.94 2.06-2.06.94zm10 10l.94 2.06.94-2.06 2.06-.94-2.06-.94-.94-2.06-.94 2.06-2.06.94z\"/><path d=\"M17.41 7.96l-1.37-1.37c-.4-.4-.92-.59-1.43-.59-.52 0-1.04.2-1.43.59L10.3 9.45l-7.72 7.72c-.78.78-.78 2.05 0 2.83L4 21.41c.39.39.9.59 1.41.59.51 0 1.02-.2 1.41-.59l7.78-7.78 2.81-2.81c.8-.78.8-2.07 0-2.86zM5.41 20L4 18.59l7.72-7.72 1.47 1.35L5.41 20z\"/>\n",
              "  </svg>\n",
              "      </button>\n",
              "      \n",
              "  <style>\n",
              "    .colab-df-container {\n",
              "      display:flex;\n",
              "      flex-wrap:wrap;\n",
              "      gap: 12px;\n",
              "    }\n",
              "\n",
              "    .colab-df-convert {\n",
              "      background-color: #E8F0FE;\n",
              "      border: none;\n",
              "      border-radius: 50%;\n",
              "      cursor: pointer;\n",
              "      display: none;\n",
              "      fill: #1967D2;\n",
              "      height: 32px;\n",
              "      padding: 0 0 0 0;\n",
              "      width: 32px;\n",
              "    }\n",
              "\n",
              "    .colab-df-convert:hover {\n",
              "      background-color: #E2EBFA;\n",
              "      box-shadow: 0px 1px 2px rgba(60, 64, 67, 0.3), 0px 1px 3px 1px rgba(60, 64, 67, 0.15);\n",
              "      fill: #174EA6;\n",
              "    }\n",
              "\n",
              "    [theme=dark] .colab-df-convert {\n",
              "      background-color: #3B4455;\n",
              "      fill: #D2E3FC;\n",
              "    }\n",
              "\n",
              "    [theme=dark] .colab-df-convert:hover {\n",
              "      background-color: #434B5C;\n",
              "      box-shadow: 0px 1px 3px 1px rgba(0, 0, 0, 0.15);\n",
              "      filter: drop-shadow(0px 1px 2px rgba(0, 0, 0, 0.3));\n",
              "      fill: #FFFFFF;\n",
              "    }\n",
              "  </style>\n",
              "\n",
              "      <script>\n",
              "        const buttonEl =\n",
              "          document.querySelector('#df-7ee1603f-9ed5-4116-bb1f-6d36b16f212a button.colab-df-convert');\n",
              "        buttonEl.style.display =\n",
              "          google.colab.kernel.accessAllowed ? 'block' : 'none';\n",
              "\n",
              "        async function convertToInteractive(key) {\n",
              "          const element = document.querySelector('#df-7ee1603f-9ed5-4116-bb1f-6d36b16f212a');\n",
              "          const dataTable =\n",
              "            await google.colab.kernel.invokeFunction('convertToInteractive',\n",
              "                                                     [key], {});\n",
              "          if (!dataTable) return;\n",
              "\n",
              "          const docLinkHtml = 'Like what you see? Visit the ' +\n",
              "            '<a target=\"_blank\" href=https://colab.research.google.com/notebooks/data_table.ipynb>data table notebook</a>'\n",
              "            + ' to learn more about interactive tables.';\n",
              "          element.innerHTML = '';\n",
              "          dataTable['output_type'] = 'display_data';\n",
              "          await google.colab.output.renderOutput(dataTable, element);\n",
              "          const docLink = document.createElement('div');\n",
              "          docLink.innerHTML = docLinkHtml;\n",
              "          element.appendChild(docLink);\n",
              "        }\n",
              "      </script>\n",
              "    </div>\n",
              "  </div>\n",
              "  "
            ]
          },
          "metadata": {},
          "execution_count": 6
        }
      ]
    },
    {
      "cell_type": "markdown",
      "source": [
        "There are no missing items in the dataframe. There is indeed only 500 labels available (as pointed out in the task description).\n",
        "--- ---\n"
      ],
      "metadata": {
        "id": "pNNUnd2oHZO3"
      }
    },
    {
      "cell_type": "markdown",
      "source": [
        "The data description suggests that there are missing data labelled \"unknown\"."
      ],
      "metadata": {
        "id": "01jtIxocAPv3"
      }
    },
    {
      "cell_type": "code",
      "source": [
        "unknown_list=df_train[df_train==\"unknown\"].sum()/len(df_train)*100\n",
        "unknown_list=unknown_list.sort_values()\n",
        "\n",
        "#print(\"\\nProportion of missing values by column:\\n\\n\", missing_list)\n",
        "\n",
        "unknown_df=pd.DataFrame({\"missing_train_%\": unknown_list, \"missing_train_qty\": df_train[df_train==\"unknown\"].sum(),\n",
        "                      \"missing_label_%\": df_labels[df_labels==\"unknown\"].sum()/len(df_labels)*100, \"missing_label_qty\": df_labels[df_labels==\"unknown\"].sum()})\n",
        "unknown_df"
      ],
      "metadata": {
        "colab": {
          "base_uri": "https://localhost:8080/",
          "height": 676
        },
        "id": "TSgtAp2dAbYb",
        "outputId": "582e3db7-b846-4e62-b4e0-14b9d9c9c295"
      },
      "execution_count": null,
      "outputs": [
        {
          "output_type": "execute_result",
          "data": {
            "text/plain": [
              "               missing_train_% missing_train_qty missing_label_%  \\\n",
              "age                        0.0               0.0             NaN   \n",
              "campaign                   0.0               0.0             NaN   \n",
              "cons.conf.idx              0.0               0.0             NaN   \n",
              "cons.price.idx             0.0               0.0             NaN   \n",
              "contact                    0.0                 0             NaN   \n",
              "day_of_week                0.0                 0             NaN   \n",
              "default                    0.0                 0             NaN   \n",
              "education                  0.0                 0             NaN   \n",
              "emp.var.rate               0.0               0.0             NaN   \n",
              "euribor3m                  0.0               0.0             NaN   \n",
              "housing                    0.0                 0             NaN   \n",
              "job                        0.0                 0             NaN   \n",
              "labels                     NaN               NaN             0.0   \n",
              "loan                       0.0                 0             NaN   \n",
              "marital                    0.0                 0             NaN   \n",
              "month                      0.0                 0             NaN   \n",
              "nr.employed                0.0               0.0             NaN   \n",
              "pdays                      0.0               0.0             NaN   \n",
              "poutcome                   0.0                 0             NaN   \n",
              "previous                   0.0               0.0             NaN   \n",
              "\n",
              "               missing_label_qty  \n",
              "age                          NaN  \n",
              "campaign                     NaN  \n",
              "cons.conf.idx                NaN  \n",
              "cons.price.idx               NaN  \n",
              "contact                      NaN  \n",
              "day_of_week                  NaN  \n",
              "default                      NaN  \n",
              "education                    NaN  \n",
              "emp.var.rate                 NaN  \n",
              "euribor3m                    NaN  \n",
              "housing                      NaN  \n",
              "job                          NaN  \n",
              "labels                         0  \n",
              "loan                         NaN  \n",
              "marital                      NaN  \n",
              "month                        NaN  \n",
              "nr.employed                  NaN  \n",
              "pdays                        NaN  \n",
              "poutcome                     NaN  \n",
              "previous                     NaN  "
            ],
            "text/html": [
              "\n",
              "  <div id=\"df-09644856-059e-4bda-8980-39f8e77782ee\">\n",
              "    <div class=\"colab-df-container\">\n",
              "      <div>\n",
              "<style scoped>\n",
              "    .dataframe tbody tr th:only-of-type {\n",
              "        vertical-align: middle;\n",
              "    }\n",
              "\n",
              "    .dataframe tbody tr th {\n",
              "        vertical-align: top;\n",
              "    }\n",
              "\n",
              "    .dataframe thead th {\n",
              "        text-align: right;\n",
              "    }\n",
              "</style>\n",
              "<table border=\"1\" class=\"dataframe\">\n",
              "  <thead>\n",
              "    <tr style=\"text-align: right;\">\n",
              "      <th></th>\n",
              "      <th>missing_train_%</th>\n",
              "      <th>missing_train_qty</th>\n",
              "      <th>missing_label_%</th>\n",
              "      <th>missing_label_qty</th>\n",
              "    </tr>\n",
              "  </thead>\n",
              "  <tbody>\n",
              "    <tr>\n",
              "      <th>age</th>\n",
              "      <td>0.0</td>\n",
              "      <td>0.0</td>\n",
              "      <td>NaN</td>\n",
              "      <td>NaN</td>\n",
              "    </tr>\n",
              "    <tr>\n",
              "      <th>campaign</th>\n",
              "      <td>0.0</td>\n",
              "      <td>0.0</td>\n",
              "      <td>NaN</td>\n",
              "      <td>NaN</td>\n",
              "    </tr>\n",
              "    <tr>\n",
              "      <th>cons.conf.idx</th>\n",
              "      <td>0.0</td>\n",
              "      <td>0.0</td>\n",
              "      <td>NaN</td>\n",
              "      <td>NaN</td>\n",
              "    </tr>\n",
              "    <tr>\n",
              "      <th>cons.price.idx</th>\n",
              "      <td>0.0</td>\n",
              "      <td>0.0</td>\n",
              "      <td>NaN</td>\n",
              "      <td>NaN</td>\n",
              "    </tr>\n",
              "    <tr>\n",
              "      <th>contact</th>\n",
              "      <td>0.0</td>\n",
              "      <td>0</td>\n",
              "      <td>NaN</td>\n",
              "      <td>NaN</td>\n",
              "    </tr>\n",
              "    <tr>\n",
              "      <th>day_of_week</th>\n",
              "      <td>0.0</td>\n",
              "      <td>0</td>\n",
              "      <td>NaN</td>\n",
              "      <td>NaN</td>\n",
              "    </tr>\n",
              "    <tr>\n",
              "      <th>default</th>\n",
              "      <td>0.0</td>\n",
              "      <td>0</td>\n",
              "      <td>NaN</td>\n",
              "      <td>NaN</td>\n",
              "    </tr>\n",
              "    <tr>\n",
              "      <th>education</th>\n",
              "      <td>0.0</td>\n",
              "      <td>0</td>\n",
              "      <td>NaN</td>\n",
              "      <td>NaN</td>\n",
              "    </tr>\n",
              "    <tr>\n",
              "      <th>emp.var.rate</th>\n",
              "      <td>0.0</td>\n",
              "      <td>0.0</td>\n",
              "      <td>NaN</td>\n",
              "      <td>NaN</td>\n",
              "    </tr>\n",
              "    <tr>\n",
              "      <th>euribor3m</th>\n",
              "      <td>0.0</td>\n",
              "      <td>0.0</td>\n",
              "      <td>NaN</td>\n",
              "      <td>NaN</td>\n",
              "    </tr>\n",
              "    <tr>\n",
              "      <th>housing</th>\n",
              "      <td>0.0</td>\n",
              "      <td>0</td>\n",
              "      <td>NaN</td>\n",
              "      <td>NaN</td>\n",
              "    </tr>\n",
              "    <tr>\n",
              "      <th>job</th>\n",
              "      <td>0.0</td>\n",
              "      <td>0</td>\n",
              "      <td>NaN</td>\n",
              "      <td>NaN</td>\n",
              "    </tr>\n",
              "    <tr>\n",
              "      <th>labels</th>\n",
              "      <td>NaN</td>\n",
              "      <td>NaN</td>\n",
              "      <td>0.0</td>\n",
              "      <td>0</td>\n",
              "    </tr>\n",
              "    <tr>\n",
              "      <th>loan</th>\n",
              "      <td>0.0</td>\n",
              "      <td>0</td>\n",
              "      <td>NaN</td>\n",
              "      <td>NaN</td>\n",
              "    </tr>\n",
              "    <tr>\n",
              "      <th>marital</th>\n",
              "      <td>0.0</td>\n",
              "      <td>0</td>\n",
              "      <td>NaN</td>\n",
              "      <td>NaN</td>\n",
              "    </tr>\n",
              "    <tr>\n",
              "      <th>month</th>\n",
              "      <td>0.0</td>\n",
              "      <td>0</td>\n",
              "      <td>NaN</td>\n",
              "      <td>NaN</td>\n",
              "    </tr>\n",
              "    <tr>\n",
              "      <th>nr.employed</th>\n",
              "      <td>0.0</td>\n",
              "      <td>0.0</td>\n",
              "      <td>NaN</td>\n",
              "      <td>NaN</td>\n",
              "    </tr>\n",
              "    <tr>\n",
              "      <th>pdays</th>\n",
              "      <td>0.0</td>\n",
              "      <td>0.0</td>\n",
              "      <td>NaN</td>\n",
              "      <td>NaN</td>\n",
              "    </tr>\n",
              "    <tr>\n",
              "      <th>poutcome</th>\n",
              "      <td>0.0</td>\n",
              "      <td>0</td>\n",
              "      <td>NaN</td>\n",
              "      <td>NaN</td>\n",
              "    </tr>\n",
              "    <tr>\n",
              "      <th>previous</th>\n",
              "      <td>0.0</td>\n",
              "      <td>0.0</td>\n",
              "      <td>NaN</td>\n",
              "      <td>NaN</td>\n",
              "    </tr>\n",
              "  </tbody>\n",
              "</table>\n",
              "</div>\n",
              "      <button class=\"colab-df-convert\" onclick=\"convertToInteractive('df-09644856-059e-4bda-8980-39f8e77782ee')\"\n",
              "              title=\"Convert this dataframe to an interactive table.\"\n",
              "              style=\"display:none;\">\n",
              "        \n",
              "  <svg xmlns=\"http://www.w3.org/2000/svg\" height=\"24px\"viewBox=\"0 0 24 24\"\n",
              "       width=\"24px\">\n",
              "    <path d=\"M0 0h24v24H0V0z\" fill=\"none\"/>\n",
              "    <path d=\"M18.56 5.44l.94 2.06.94-2.06 2.06-.94-2.06-.94-.94-2.06-.94 2.06-2.06.94zm-11 1L8.5 8.5l.94-2.06 2.06-.94-2.06-.94L8.5 2.5l-.94 2.06-2.06.94zm10 10l.94 2.06.94-2.06 2.06-.94-2.06-.94-.94-2.06-.94 2.06-2.06.94z\"/><path d=\"M17.41 7.96l-1.37-1.37c-.4-.4-.92-.59-1.43-.59-.52 0-1.04.2-1.43.59L10.3 9.45l-7.72 7.72c-.78.78-.78 2.05 0 2.83L4 21.41c.39.39.9.59 1.41.59.51 0 1.02-.2 1.41-.59l7.78-7.78 2.81-2.81c.8-.78.8-2.07 0-2.86zM5.41 20L4 18.59l7.72-7.72 1.47 1.35L5.41 20z\"/>\n",
              "  </svg>\n",
              "      </button>\n",
              "      \n",
              "  <style>\n",
              "    .colab-df-container {\n",
              "      display:flex;\n",
              "      flex-wrap:wrap;\n",
              "      gap: 12px;\n",
              "    }\n",
              "\n",
              "    .colab-df-convert {\n",
              "      background-color: #E8F0FE;\n",
              "      border: none;\n",
              "      border-radius: 50%;\n",
              "      cursor: pointer;\n",
              "      display: none;\n",
              "      fill: #1967D2;\n",
              "      height: 32px;\n",
              "      padding: 0 0 0 0;\n",
              "      width: 32px;\n",
              "    }\n",
              "\n",
              "    .colab-df-convert:hover {\n",
              "      background-color: #E2EBFA;\n",
              "      box-shadow: 0px 1px 2px rgba(60, 64, 67, 0.3), 0px 1px 3px 1px rgba(60, 64, 67, 0.15);\n",
              "      fill: #174EA6;\n",
              "    }\n",
              "\n",
              "    [theme=dark] .colab-df-convert {\n",
              "      background-color: #3B4455;\n",
              "      fill: #D2E3FC;\n",
              "    }\n",
              "\n",
              "    [theme=dark] .colab-df-convert:hover {\n",
              "      background-color: #434B5C;\n",
              "      box-shadow: 0px 1px 3px 1px rgba(0, 0, 0, 0.15);\n",
              "      filter: drop-shadow(0px 1px 2px rgba(0, 0, 0, 0.3));\n",
              "      fill: #FFFFFF;\n",
              "    }\n",
              "  </style>\n",
              "\n",
              "      <script>\n",
              "        const buttonEl =\n",
              "          document.querySelector('#df-09644856-059e-4bda-8980-39f8e77782ee button.colab-df-convert');\n",
              "        buttonEl.style.display =\n",
              "          google.colab.kernel.accessAllowed ? 'block' : 'none';\n",
              "\n",
              "        async function convertToInteractive(key) {\n",
              "          const element = document.querySelector('#df-09644856-059e-4bda-8980-39f8e77782ee');\n",
              "          const dataTable =\n",
              "            await google.colab.kernel.invokeFunction('convertToInteractive',\n",
              "                                                     [key], {});\n",
              "          if (!dataTable) return;\n",
              "\n",
              "          const docLinkHtml = 'Like what you see? Visit the ' +\n",
              "            '<a target=\"_blank\" href=https://colab.research.google.com/notebooks/data_table.ipynb>data table notebook</a>'\n",
              "            + ' to learn more about interactive tables.';\n",
              "          element.innerHTML = '';\n",
              "          dataTable['output_type'] = 'display_data';\n",
              "          await google.colab.output.renderOutput(dataTable, element);\n",
              "          const docLink = document.createElement('div');\n",
              "          docLink.innerHTML = docLinkHtml;\n",
              "          element.appendChild(docLink);\n",
              "        }\n",
              "      </script>\n",
              "    </div>\n",
              "  </div>\n",
              "  "
            ]
          },
          "metadata": {},
          "execution_count": 7
        }
      ]
    },
    {
      "cell_type": "markdown",
      "source": [
        "It seems the dataframe free of \"unknown\" records.\n",
        "\n",
        "--- ---"
      ],
      "metadata": {
        "id": "Sdp4br0tBdP4"
      }
    },
    {
      "cell_type": "markdown",
      "source": [
        "### duplicates"
      ],
      "metadata": {
        "id": "KUtAr0MCIejo"
      }
    },
    {
      "cell_type": "code",
      "source": [
        "df_train.duplicated(subset=None, keep= 'first').value_counts()"
      ],
      "metadata": {
        "colab": {
          "base_uri": "https://localhost:8080/"
        },
        "id": "HoucJxaDIdQY",
        "outputId": "16ddf9c8-9320-4476-866a-18f685fa1c55"
      },
      "execution_count": null,
      "outputs": [
        {
          "output_type": "execute_result",
          "data": {
            "text/plain": [
              "False    28867\n",
              "True      1621\n",
              "dtype: int64"
            ]
          },
          "metadata": {},
          "execution_count": 8
        }
      ]
    },
    {
      "cell_type": "markdown",
      "source": [
        "However there are some duplicates, there is no specific identification field that would determine if a row is duplicate or not. The content of columns reasonably allows that there are rows with the same content but they represent distinct people. (For example two 30years old married housewifes with secondary school education, personal loan, mortgage and credit were contacted on the same day). \n",
        "For this reason I decided not to eliminate these rows.\n",
        "\n",
        "If I am wrong and the content of the rows matches due to a data registration error, then that datapoint would be considered with double (triple, etc) \"weight\" when calculating the center of the cluster. Compared to the expected number of items in the clusters it should be negligible."
      ],
      "metadata": {
        "id": "A2uiYEelR2dY"
      }
    },
    {
      "cell_type": "markdown",
      "source": [
        "### visualisation of data distribution"
      ],
      "metadata": {
        "id": "-x-M_6-8VMWc"
      }
    },
    {
      "cell_type": "markdown",
      "source": [
        "#### categorical features"
      ],
      "metadata": {
        "id": "_w40Rx6QVWIW"
      }
    },
    {
      "cell_type": "code",
      "source": [
        "def cat_display(df, cat_feat):\n",
        "  fig, ax=plt.subplots(2,int(-(-len(cat_feat)//2)), figsize=(20,12))\n",
        "  plt.tight_layout(pad=11)\n",
        "\n",
        "  a=0\n",
        "  b=0\n",
        "\n",
        "  for i in cat_feat:\n",
        "    dr=df[i].value_counts(dropna=False)\n",
        "    x=list(dr.index)\n",
        "    for n,g in enumerate(x):\n",
        "      if pd.isnull(g):\n",
        "        x[n]='nan'\n",
        "      if pd.isnull(g)!=True:\n",
        "        x[n]=str(x[n])\n",
        "    h=list(dr.values)\n",
        "    ax[a,b].bar(x=x, height=h)\n",
        "    ax[a,b].set_title(i[:10])\n",
        "    ax[a,b].set_xticklabels(x, rotation='vertical')\n",
        "    if b<=int(-(-len(cat_feat)//2))-2:\n",
        "     b=b+1\n",
        "    else:\n",
        "      b=0\n",
        "      a=a+1"
      ],
      "metadata": {
        "id": "rSSkiBSjEMQP"
      },
      "execution_count": null,
      "outputs": []
    },
    {
      "cell_type": "code",
      "source": [
        "cat_display(df_train, cat_feat)"
      ],
      "metadata": {
        "colab": {
          "base_uri": "https://localhost:8080/",
          "height": 736
        },
        "id": "WHho0lwfhvs9",
        "outputId": "0da4d163-f223-4edc-c3c3-dda3dcb1a528"
      },
      "execution_count": null,
      "outputs": [
        {
          "output_type": "display_data",
          "data": {
            "text/plain": [
              "<Figure size 1440x864 with 10 Axes>"
            ],
            "image/png": "[encoded data removed]"
          },
          "metadata": {
            "needs_background": "light"
          }
        }
      ]
    },
    {
      "cell_type": "code",
      "source": [
        "df_train.default.value_counts()"
      ],
      "metadata": {
        "colab": {
          "base_uri": "https://localhost:8080/"
        },
        "id": "R_Cu3uYG1quH",
        "outputId": "03865a28-e398-4ad8-b471-c88668162afd"
      },
      "execution_count": null,
      "outputs": [
        {
          "output_type": "execute_result",
          "data": {
            "text/plain": [
              "no     30485\n",
              "yes        3\n",
              "Name: default, dtype: int64"
            ]
          },
          "metadata": {},
          "execution_count": 11
        }
      ]
    },
    {
      "cell_type": "markdown",
      "source": [
        "#### numerical features"
      ],
      "metadata": {
        "id": "CSSzxeOjWDpx"
      }
    },
    {
      "cell_type": "code",
      "source": [
        "from matplotlib.ticker import FormatStrFormatter\n",
        "\n",
        "def num_display(df, num_feat):\n",
        "  fig, ax=plt.subplots(2,int(-(-len(num_feat)//2)), figsize=(15,12))\n",
        "  plt.tight_layout(pad=2)\n",
        "\n",
        "  a=0\n",
        "  b=0\n",
        "\n",
        "  for i in num_feat:\n",
        "    ax[a,b].hist(x=list(df[i].values), bins=10)\n",
        "    counts, bins, patches = ax[a,b].hist(df[i], bins=10)\n",
        "    bins=np.round(bins,1)\n",
        "\n",
        "    ax[a,b].xaxis.set_major_formatter(FormatStrFormatter('%0.1f'))\n",
        "    ax[a,b].set_xticks(bins)\n",
        "    ax[a,b].set_xticklabels(bins, rotation=90)\n",
        "    bin_centers = 0.5 * np.diff(bins) + bins[:-1]\n",
        "\n",
        "    for count, x in zip(counts, bin_centers):\n",
        "    # Count labels\n",
        "      ax[a,b].annotate(str(int(count)), xy=(x, 0), xycoords=('data', 'axes fraction'),\n",
        "        xytext=(0, -46), textcoords='offset points', va='top', ha='center', rotation=\"vertical\")\n",
        "    # % labels\n",
        "      #percent = '%0.0f%%' % (100 * float(count) / counts.sum())\n",
        "      #ax[a,b].annotate(percent, xy=(x, 0), xycoords=('data', 'axes fraction'),\n",
        "    #    xytext=(0, -32), textcoords='offset points', va='top', ha='center', rotation=\"vertical\")\n",
        "\n",
        "    # Adjust subplot positions for visibility of labels\n",
        "    plt.subplots_adjust(bottom=0.15, wspace=0.3,hspace=0.5)\n",
        "\n",
        "    ax[a,b].set_title(i[:10])\n",
        "\n",
        "    if b<=int(-(-len(num_feat)//2))-2:\n",
        "     b=b+1\n",
        "    else:\n",
        "      b=0\n",
        "      a=a+1"
      ],
      "metadata": {
        "id": "tquM7b9kafU2"
      },
      "execution_count": null,
      "outputs": []
    },
    {
      "cell_type": "code",
      "source": [
        "num_display(df_train, num_feat)"
      ],
      "metadata": {
        "colab": {
          "base_uri": "https://localhost:8080/",
          "height": 835
        },
        "id": "0nf8M5Liafj9",
        "outputId": "8491c215-0f16-4e75-8d37-80d85c36745a"
      },
      "execution_count": null,
      "outputs": [
        {
          "output_type": "display_data",
          "data": {
            "text/plain": [
              "<Figure size 1080x864 with 10 Axes>"
            ],
            "image/png": "[encoded data removed]"
          },
          "metadata": {
            "needs_background": "light"
          }
        }
      ]
    },
    {
      "cell_type": "markdown",
      "source": [
        "#### data cleaning and preparation for model"
      ],
      "metadata": {
        "id": "gDZuPUsdlSdm"
      }
    },
    {
      "cell_type": "markdown",
      "source": [
        "In \"pdays\" feature the the '999' value is an exception code, not real data. Since this means that the \"question\" is actually not applicable, and only 4% of the records have meaningful value, this feature should be transformed into a categorical feature.\n",
        "After a trial however I found out that dropping this feature actually gave me better prediction. \n",
        "Thus I decided to omit it."
      ],
      "metadata": {
        "id": "-lLq-nPild3G"
      }
    },
    {
      "cell_type": "code",
      "source": [
        "df_train.pdays.value_counts()[:5]"
      ],
      "metadata": {
        "colab": {
          "base_uri": "https://localhost:8080/"
        },
        "id": "Cth4nmSeaHGA",
        "outputId": "d76b4c3d-d7bd-4e1c-9daa-fcaf3a34d6b8"
      },
      "execution_count": null,
      "outputs": [
        {
          "output_type": "execute_result",
          "data": {
            "text/plain": [
              "999    29178\n",
              "3        381\n",
              "6        363\n",
              "4        102\n",
              "2         53\n",
              "Name: pdays, dtype: int64"
            ]
          },
          "metadata": {},
          "execution_count": 14
        }
      ]
    },
    {
      "cell_type": "code",
      "source": [
        "#cat_feat.remove(\"poutcome\")\n",
        "num_feat.remove(\"pdays\")\n",
        "df_train.drop([\"pdays\"], axis=1, inplace=True)\n",
        "\n",
        "df_cat_onehot=pd.get_dummies(df_train[cat_feat], columns=cat_feat, prefix=cat_feat)\n",
        "#cat_feat.extend([\"\"])\n",
        "df_comb=df_cat_onehot.join(df_train.drop(cat_feat, axis=1))\n",
        "df_comb.shape"
      ],
      "metadata": {
        "colab": {
          "base_uri": "https://localhost:8080/"
        },
        "id": "9XFNrwSfiM7Y",
        "outputId": "162a8de9-5523-4b4d-c6dc-216c49bf2b3a"
      },
      "execution_count": null,
      "outputs": [
        {
          "output_type": "execute_result",
          "data": {
            "text/plain": [
              "(30488, 55)"
            ]
          },
          "metadata": {},
          "execution_count": 15
        }
      ]
    },
    {
      "cell_type": "markdown",
      "source": [
        "## 1st model: kmeans"
      ],
      "metadata": {
        "id": "bdPl7G9dLeTe"
      }
    },
    {
      "cell_type": "markdown",
      "source": [
        "### model and prediction"
      ],
      "metadata": {
        "id": "sM9uQ5cG-4uU"
      }
    },
    {
      "cell_type": "code",
      "source": [
        "kmeans = KMeans(n_clusters=2)\n",
        "kmeans.fit(df_comb)\n",
        "km_pred = kmeans.predict(df_comb)\n",
        "df_eval=pd.DataFrame(km_pred, columns=[\"prediction\"])\n",
        "df_eval[\"labels\"]=df_labels.labels\n",
        "df_eval.loc[df_eval.prediction==0, \"prediction\"]=\"no\"\n",
        "df_eval.loc[df_eval.prediction==1, \"prediction\"]=\"yes\"\n",
        "df_eval_sample=df_eval.drop(df_eval.loc[df_eval[\"labels\"].isna()==True].index)\n",
        "df_eval_sample.value_counts()"
      ],
      "metadata": {
        "colab": {
          "base_uri": "https://localhost:8080/"
        },
        "id": "f-bn_vTbJv7J",
        "outputId": "27b83936-adf4-42e2-97eb-fabbb711572a"
      },
      "execution_count": null,
      "outputs": [
        {
          "output_type": "execute_result",
          "data": {
            "text/plain": [
              "prediction  labels\n",
              "no          no        309\n",
              "yes         no        133\n",
              "            yes        43\n",
              "no          yes        15\n",
              "dtype: int64"
            ]
          },
          "metadata": {},
          "execution_count": 16
        }
      ]
    },
    {
      "cell_type": "code",
      "source": [
        "accuracy_score(df_eval_sample.labels.astype(str), df_eval_sample.prediction.astype(str))"
      ],
      "metadata": {
        "colab": {
          "base_uri": "https://localhost:8080/"
        },
        "id": "em4h_Msfp5Cx",
        "outputId": "437a51f5-4f30-403e-d0e8-454da13b210f"
      },
      "execution_count": null,
      "outputs": [
        {
          "output_type": "execute_result",
          "data": {
            "text/plain": [
              "0.704"
            ]
          },
          "metadata": {},
          "execution_count": 17
        }
      ]
    },
    {
      "cell_type": "code",
      "source": [
        "def bal_acc(cm):\n",
        "  TPR = cm[1,1] / (cm[1,1] + cm[1,0])\n",
        "  TNR = cm[0,0] / (cm[0,0] + cm[0,1])\n",
        "  result = (TPR + TNR) / 2\n",
        "  return result"
      ],
      "metadata": {
        "id": "Il1Sp9iUgyrb"
      },
      "execution_count": null,
      "outputs": []
    },
    {
      "cell_type": "code",
      "source": [
        "conf=confusion_matrix(df_eval_sample.labels, df_eval_sample.prediction)\n",
        "bal_acc(conf)"
      ],
      "metadata": {
        "id": "1-95RHhMyYEG",
        "colab": {
          "base_uri": "https://localhost:8080/"
        },
        "outputId": "1c25094c-2a43-4a12-f7f0-ceebc53d1e21"
      },
      "execution_count": null,
      "outputs": [
        {
          "output_type": "execute_result",
          "data": {
            "text/plain": [
              "0.720237166484631"
            ]
          },
          "metadata": {},
          "execution_count": 19
        }
      ]
    },
    {
      "cell_type": "code",
      "source": [
        "cm_disp(conf).plot()\n",
        "plt.show()"
      ],
      "metadata": {
        "colab": {
          "base_uri": "https://localhost:8080/",
          "height": 279
        },
        "id": "LSYFQX5ifyh6",
        "outputId": "11895f88-9419-44d6-a75a-b019a3d45db4"
      },
      "execution_count": null,
      "outputs": [
        {
          "output_type": "display_data",
          "data": {
            "text/plain": [
              "<Figure size 432x288 with 2 Axes>"
            ],
            "image/png": "[encoded data removed]"
          },
          "metadata": {
            "needs_background": "light"
          }
        }
      ]
    },
    {
      "cell_type": "markdown",
      "source": [
        "this looks quite nice, however during the submission file creation I found out something strange..."
      ],
      "metadata": {
        "id": "1pkm1ezeOKWX"
      }
    },
    {
      "cell_type": "markdown",
      "source": [
        "### analysis of a strange behavoiur"
      ],
      "metadata": {
        "id": "8IQbBo6V-tNM"
      }
    },
    {
      "cell_type": "code",
      "source": [
        "plt.plot(df_eval.index, df_eval.prediction)"
      ],
      "metadata": {
        "colab": {
          "base_uri": "https://localhost:8080/",
          "height": 283
        },
        "id": "DpA2OohvKPg_",
        "outputId": "61bb2724-fd46-4815-d78f-b904525cd3b4"
      },
      "execution_count": null,
      "outputs": [
        {
          "output_type": "execute_result",
          "data": {
            "text/plain": [
              "[<matplotlib.lines.Line2D at 0x7f3b1076e210>]"
            ]
          },
          "metadata": {},
          "execution_count": 21
        },
        {
          "output_type": "display_data",
          "data": {
            "text/plain": [
              "<Figure size 432x288 with 1 Axes>"
            ],
            "image/png": "[encoded data removed]"
          },
          "metadata": {
            "needs_background": "light"
          }
        }
      ]
    },
    {
      "cell_type": "markdown",
      "source": [
        "is this really happening?!"
      ],
      "metadata": {
        "id": "QdSeKSjOO3XX"
      }
    },
    {
      "cell_type": "code",
      "source": [
        "km_pred[19200:19400]"
      ],
      "metadata": {
        "colab": {
          "base_uri": "https://localhost:8080/"
        },
        "id": "4B_FyAi-MtJR",
        "outputId": "c4c4d898-66b7-436d-a83e-1e9d32ae142d"
      },
      "execution_count": null,
      "outputs": [
        {
          "output_type": "execute_result",
          "data": {
            "text/plain": [
              "array([0, 0, 0, 0, 0, 0, 0, 0, 0, 0, 0, 0, 0, 0, 0, 0, 0, 0, 0, 0, 0, 0,\n",
              "       0, 0, 0, 0, 0, 0, 0, 0, 0, 0, 0, 0, 0, 0, 0, 0, 0, 0, 0, 0, 0, 0,\n",
              "       0, 0, 0, 0, 0, 0, 0, 0, 0, 0, 0, 0, 0, 0, 0, 0, 0, 0, 0, 0, 0, 0,\n",
              "       0, 0, 0, 0, 0, 0, 0, 0, 0, 0, 0, 0, 0, 0, 0, 0, 0, 0, 0, 1, 1, 1,\n",
              "       1, 1, 1, 1, 1, 1, 1, 1, 1, 1, 1, 1, 1, 1, 1, 1, 1, 1, 1, 1, 1, 1,\n",
              "       1, 1, 1, 1, 1, 1, 1, 1, 1, 1, 1, 1, 1, 1, 1, 1, 1, 1, 1, 1, 1, 1,\n",
              "       1, 1, 1, 1, 1, 1, 1, 1, 1, 1, 1, 1, 1, 1, 1, 1, 1, 1, 1, 1, 1, 1,\n",
              "       1, 1, 1, 1, 1, 1, 1, 1, 1, 1, 1, 1, 1, 1, 1, 1, 1, 1, 1, 1, 1, 1,\n",
              "       1, 1, 1, 1, 1, 1, 1, 1, 1, 1, 1, 1, 1, 1, 1, 1, 1, 1, 1, 1, 1, 1,\n",
              "       1, 1], dtype=int32)"
            ]
          },
          "metadata": {},
          "execution_count": 22
        }
      ]
    },
    {
      "cell_type": "markdown",
      "source": [
        "is this because the dataframe is sorted by a key predictor feature?"
      ],
      "metadata": {
        "id": "RllxTRbI2iXh"
      }
    },
    {
      "cell_type": "code",
      "source": [
        "cat_feat"
      ],
      "metadata": {
        "colab": {
          "base_uri": "https://localhost:8080/"
        },
        "id": "8jZ96wSv2yH1",
        "outputId": "73862afc-2243-4689-f602-1a3f8e948206"
      },
      "execution_count": null,
      "outputs": [
        {
          "output_type": "execute_result",
          "data": {
            "text/plain": [
              "['job',\n",
              " 'marital',\n",
              " 'education',\n",
              " 'default',\n",
              " 'housing',\n",
              " 'loan',\n",
              " 'contact',\n",
              " 'month',\n",
              " 'day_of_week',\n",
              " 'poutcome']"
            ]
          },
          "metadata": {},
          "execution_count": 23
        }
      ]
    },
    {
      "cell_type": "code",
      "source": [
        "plt.scatter(df_train.index, df_train.contact)"
      ],
      "metadata": {
        "colab": {
          "base_uri": "https://localhost:8080/",
          "height": 283
        },
        "id": "P-fYguV83aU1",
        "outputId": "8ea1fdc9-6aab-4414-82b7-a1d0852009e6"
      },
      "execution_count": null,
      "outputs": [
        {
          "output_type": "execute_result",
          "data": {
            "text/plain": [
              "<matplotlib.collections.PathCollection at 0x7f3b10823e90>"
            ]
          },
          "metadata": {},
          "execution_count": 24
        },
        {
          "output_type": "display_data",
          "data": {
            "text/plain": [
              "<Figure size 432x288 with 1 Axes>"
            ],
            "image/png": "[encoded data removed]"
          },
          "metadata": {
            "needs_background": "light"
          }
        }
      ]
    },
    {
      "cell_type": "markdown",
      "source": [
        "The first 6000-ish clients in the dataframe were contacted purely over telephone, after that cellphone and telephone occurs in the dataset in mixture."
      ],
      "metadata": {
        "id": "qqNk_dfr4JoJ"
      }
    },
    {
      "cell_type": "code",
      "source": [
        "plt.scatter(df_train.index, df_train.month)"
      ],
      "metadata": {
        "colab": {
          "base_uri": "https://localhost:8080/",
          "height": 283
        },
        "id": "VEnouar64wce",
        "outputId": "e70e6f83-ad97-43a7-ef71-8c7f4f8bb17b"
      },
      "execution_count": null,
      "outputs": [
        {
          "output_type": "execute_result",
          "data": {
            "text/plain": [
              "<matplotlib.collections.PathCollection at 0x7f3b10571c50>"
            ]
          },
          "metadata": {},
          "execution_count": 25
        },
        {
          "output_type": "display_data",
          "data": {
            "text/plain": [
              "<Figure size 432x288 with 1 Axes>"
            ],
            "image/png": "[encoded data removed]"
          },
          "metadata": {
            "needs_background": "light"
          }
        }
      ]
    },
    {
      "cell_type": "markdown",
      "source": [
        "This shows the dataset is ordered by time, but there is also a breakpoint around the index 21000."
      ],
      "metadata": {
        "id": "u0ANq3Aa48ut"
      }
    },
    {
      "cell_type": "code",
      "source": [
        "plt.scatter(df_train.index, df_train.poutcome)"
      ],
      "metadata": {
        "colab": {
          "base_uri": "https://localhost:8080/",
          "height": 283
        },
        "id": "gv87cHpT5dgy",
        "outputId": "92a6caa5-388b-4896-bed0-1588ba2aac2f"
      },
      "execution_count": null,
      "outputs": [
        {
          "output_type": "execute_result",
          "data": {
            "text/plain": [
              "<matplotlib.collections.PathCollection at 0x7f3b0b8b2dd0>"
            ]
          },
          "metadata": {},
          "execution_count": 26
        },
        {
          "output_type": "display_data",
          "data": {
            "text/plain": [
              "<Figure size 432x288 with 1 Axes>"
            ],
            "image/png": "[encoded data removed]"
          },
          "metadata": {
            "needs_background": "light"
          }
        }
      ]
    },
    {
      "cell_type": "markdown",
      "source": [
        "None of the categorical features on its own explains the prediction step at index 19200.\n",
        "\n",
        "Let's see the numericals."
      ],
      "metadata": {
        "id": "K-sBgzt46Ptt"
      }
    },
    {
      "cell_type": "code",
      "source": [
        "num_feat"
      ],
      "metadata": {
        "colab": {
          "base_uri": "https://localhost:8080/"
        },
        "id": "Z7nlcPpI6tSS",
        "outputId": "91ae4b59-aeb8-4cd6-d125-3a3884ccab43"
      },
      "execution_count": null,
      "outputs": [
        {
          "output_type": "execute_result",
          "data": {
            "text/plain": [
              "['age',\n",
              " 'campaign',\n",
              " 'previous',\n",
              " 'emp.var.rate',\n",
              " 'cons.price.idx',\n",
              " 'cons.conf.idx',\n",
              " 'euribor3m',\n",
              " 'nr.employed']"
            ]
          },
          "metadata": {},
          "execution_count": 27
        }
      ]
    },
    {
      "cell_type": "code",
      "source": [
        "plt.scatter(df_train.index, df_train.age)"
      ],
      "metadata": {
        "colab": {
          "base_uri": "https://localhost:8080/",
          "height": 283
        },
        "id": "lM75stD26Mae",
        "outputId": "58b483af-af28-4dd8-9c3b-fc4fde2d4c98"
      },
      "execution_count": null,
      "outputs": [
        {
          "output_type": "execute_result",
          "data": {
            "text/plain": [
              "<matplotlib.collections.PathCollection at 0x7f3b105faa90>"
            ]
          },
          "metadata": {},
          "execution_count": 28
        },
        {
          "output_type": "display_data",
          "data": {
            "text/plain": [
              "<Figure size 432x288 with 1 Axes>"
            ],
            "image/png": "[encoded data removed]"
          },
          "metadata": {
            "needs_background": "light"
          }
        }
      ]
    },
    {
      "cell_type": "markdown",
      "source": [
        "Below index 19000-ish there are no clients older than 60 years. Let's keep it in mind."
      ],
      "metadata": {
        "id": "cYV4B2Px6_Oa"
      }
    },
    {
      "cell_type": "code",
      "source": [
        "plt.scatter(df_train.index, df_train[\"emp.var.rate\"])"
      ],
      "metadata": {
        "colab": {
          "base_uri": "https://localhost:8080/",
          "height": 283
        },
        "id": "Jn-TJ7n27VFz",
        "outputId": "20f87317-9119-40e4-bacf-3c018908100b"
      },
      "execution_count": null,
      "outputs": [
        {
          "output_type": "execute_result",
          "data": {
            "text/plain": [
              "<matplotlib.collections.PathCollection at 0x7f3b0bb5bad0>"
            ]
          },
          "metadata": {},
          "execution_count": 29
        },
        {
          "output_type": "display_data",
          "data": {
            "text/plain": [
              "<Figure size 432x288 with 1 Axes>"
            ],
            "image/png": "[encoded data removed]"
          },
          "metadata": {
            "needs_background": "light"
          }
        }
      ]
    },
    {
      "cell_type": "markdown",
      "source": [
        "There also seems to be a breakpoint around index 19000-ish."
      ],
      "metadata": {
        "id": "YDlURYN079jc"
      }
    },
    {
      "cell_type": "code",
      "source": [
        "plt.scatter(df_train.index, df_train[\"euribor3m\"])"
      ],
      "metadata": {
        "colab": {
          "base_uri": "https://localhost:8080/",
          "height": 283
        },
        "id": "iW3XzNKr8GhT",
        "outputId": "a58c1390-2e05-4c02-fcf6-7ebb8e1e37d9"
      },
      "execution_count": null,
      "outputs": [
        {
          "output_type": "execute_result",
          "data": {
            "text/plain": [
              "<matplotlib.collections.PathCollection at 0x7f3b106f5890>"
            ]
          },
          "metadata": {},
          "execution_count": 30
        },
        {
          "output_type": "display_data",
          "data": {
            "text/plain": [
              "<Figure size 432x288 with 1 Axes>"
            ],
            "image/png": "[encoded data removed]"
          },
          "metadata": {
            "needs_background": "light"
          }
        }
      ]
    },
    {
      "cell_type": "markdown",
      "source": [
        "There is a breakpoint at around 19000-ish. Let's see where exatly it is."
      ],
      "metadata": {
        "id": "jAehRtem8uAk"
      }
    },
    {
      "cell_type": "code",
      "source": [
        "df_train[df_train.euribor3m<2][:2]"
      ],
      "metadata": {
        "colab": {
          "base_uri": "https://localhost:8080/",
          "height": 176
        },
        "id": "GOs46fs089mL",
        "outputId": "73efccbf-274b-4af5-b020-f17e269304fd"
      },
      "execution_count": null,
      "outputs": [
        {
          "output_type": "execute_result",
          "data": {
            "text/plain": [
              "       age      job marital          education default housing loan   contact  \\\n",
              "19285   26  student  single           basic.9y      no     yes   no  cellular   \n",
              "19286   38   admin.  single  university.degree      no     yes   no  cellular   \n",
              "\n",
              "      month day_of_week  campaign  previous     poutcome  emp.var.rate  \\\n",
              "19285   mar         mon         4         0  nonexistent          -1.8   \n",
              "19286   mar         mon         2         0  nonexistent          -1.8   \n",
              "\n",
              "       cons.price.idx  cons.conf.idx  euribor3m  nr.employed  \n",
              "19285          92.843          -50.0      1.811       5099.1  \n",
              "19286          92.843          -50.0      1.811       5099.1  "
            ],
            "text/html": [
              "\n",
              "  <div id=\"df-7529e0bd-dc28-42c4-a123-5358182bb233\">\n",
              "    <div class=\"colab-df-container\">\n",
              "      <div>\n",
              "<style scoped>\n",
              "    .dataframe tbody tr th:only-of-type {\n",
              "        vertical-align: middle;\n",
              "    }\n",
              "\n",
              "    .dataframe tbody tr th {\n",
              "        vertical-align: top;\n",
              "    }\n",
              "\n",
              "    .dataframe thead th {\n",
              "        text-align: right;\n",
              "    }\n",
              "</style>\n",
              "<table border=\"1\" class=\"dataframe\">\n",
              "  <thead>\n",
              "    <tr style=\"text-align: right;\">\n",
              "      <th></th>\n",
              "      <th>age</th>\n",
              "      <th>job</th>\n",
              "      <th>marital</th>\n",
              "      <th>education</th>\n",
              "      <th>default</th>\n",
              "      <th>housing</th>\n",
              "      <th>loan</th>\n",
              "      <th>contact</th>\n",
              "      <th>month</th>\n",
              "      <th>day_of_week</th>\n",
              "      <th>campaign</th>\n",
              "      <th>previous</th>\n",
              "      <th>poutcome</th>\n",
              "      <th>emp.var.rate</th>\n",
              "      <th>cons.price.idx</th>\n",
              "      <th>cons.conf.idx</th>\n",
              "      <th>euribor3m</th>\n",
              "      <th>nr.employed</th>\n",
              "    </tr>\n",
              "  </thead>\n",
              "  <tbody>\n",
              "    <tr>\n",
              "      <th>19285</th>\n",
              "      <td>26</td>\n",
              "      <td>student</td>\n",
              "      <td>single</td>\n",
              "      <td>basic.9y</td>\n",
              "      <td>no</td>\n",
              "      <td>yes</td>\n",
              "      <td>no</td>\n",
              "      <td>cellular</td>\n",
              "      <td>mar</td>\n",
              "      <td>mon</td>\n",
              "      <td>4</td>\n",
              "      <td>0</td>\n",
              "      <td>nonexistent</td>\n",
              "      <td>-1.8</td>\n",
              "      <td>92.843</td>\n",
              "      <td>-50.0</td>\n",
              "      <td>1.811</td>\n",
              "      <td>5099.1</td>\n",
              "    </tr>\n",
              "    <tr>\n",
              "      <th>19286</th>\n",
              "      <td>38</td>\n",
              "      <td>admin.</td>\n",
              "      <td>single</td>\n",
              "      <td>university.degree</td>\n",
              "      <td>no</td>\n",
              "      <td>yes</td>\n",
              "      <td>no</td>\n",
              "      <td>cellular</td>\n",
              "      <td>mar</td>\n",
              "      <td>mon</td>\n",
              "      <td>2</td>\n",
              "      <td>0</td>\n",
              "      <td>nonexistent</td>\n",
              "      <td>-1.8</td>\n",
              "      <td>92.843</td>\n",
              "      <td>-50.0</td>\n",
              "      <td>1.811</td>\n",
              "      <td>5099.1</td>\n",
              "    </tr>\n",
              "  </tbody>\n",
              "</table>\n",
              "</div>\n",
              "      <button class=\"colab-df-convert\" onclick=\"convertToInteractive('df-7529e0bd-dc28-42c4-a123-5358182bb233')\"\n",
              "              title=\"Convert this dataframe to an interactive table.\"\n",
              "              style=\"display:none;\">\n",
              "        \n",
              "  <svg xmlns=\"http://www.w3.org/2000/svg\" height=\"24px\"viewBox=\"0 0 24 24\"\n",
              "       width=\"24px\">\n",
              "    <path d=\"M0 0h24v24H0V0z\" fill=\"none\"/>\n",
              "    <path d=\"M18.56 5.44l.94 2.06.94-2.06 2.06-.94-2.06-.94-.94-2.06-.94 2.06-2.06.94zm-11 1L8.5 8.5l.94-2.06 2.06-.94-2.06-.94L8.5 2.5l-.94 2.06-2.06.94zm10 10l.94 2.06.94-2.06 2.06-.94-2.06-.94-.94-2.06-.94 2.06-2.06.94z\"/><path d=\"M17.41 7.96l-1.37-1.37c-.4-.4-.92-.59-1.43-.59-.52 0-1.04.2-1.43.59L10.3 9.45l-7.72 7.72c-.78.78-.78 2.05 0 2.83L4 21.41c.39.39.9.59 1.41.59.51 0 1.02-.2 1.41-.59l7.78-7.78 2.81-2.81c.8-.78.8-2.07 0-2.86zM5.41 20L4 18.59l7.72-7.72 1.47 1.35L5.41 20z\"/>\n",
              "  </svg>\n",
              "      </button>\n",
              "      \n",
              "  <style>\n",
              "    .colab-df-container {\n",
              "      display:flex;\n",
              "      flex-wrap:wrap;\n",
              "      gap: 12px;\n",
              "    }\n",
              "\n",
              "    .colab-df-convert {\n",
              "      background-color: #E8F0FE;\n",
              "      border: none;\n",
              "      border-radius: 50%;\n",
              "      cursor: pointer;\n",
              "      display: none;\n",
              "      fill: #1967D2;\n",
              "      height: 32px;\n",
              "      padding: 0 0 0 0;\n",
              "      width: 32px;\n",
              "    }\n",
              "\n",
              "    .colab-df-convert:hover {\n",
              "      background-color: #E2EBFA;\n",
              "      box-shadow: 0px 1px 2px rgba(60, 64, 67, 0.3), 0px 1px 3px 1px rgba(60, 64, 67, 0.15);\n",
              "      fill: #174EA6;\n",
              "    }\n",
              "\n",
              "    [theme=dark] .colab-df-convert {\n",
              "      background-color: #3B4455;\n",
              "      fill: #D2E3FC;\n",
              "    }\n",
              "\n",
              "    [theme=dark] .colab-df-convert:hover {\n",
              "      background-color: #434B5C;\n",
              "      box-shadow: 0px 1px 3px 1px rgba(0, 0, 0, 0.15);\n",
              "      filter: drop-shadow(0px 1px 2px rgba(0, 0, 0, 0.3));\n",
              "      fill: #FFFFFF;\n",
              "    }\n",
              "  </style>\n",
              "\n",
              "      <script>\n",
              "        const buttonEl =\n",
              "          document.querySelector('#df-7529e0bd-dc28-42c4-a123-5358182bb233 button.colab-df-convert');\n",
              "        buttonEl.style.display =\n",
              "          google.colab.kernel.accessAllowed ? 'block' : 'none';\n",
              "\n",
              "        async function convertToInteractive(key) {\n",
              "          const element = document.querySelector('#df-7529e0bd-dc28-42c4-a123-5358182bb233');\n",
              "          const dataTable =\n",
              "            await google.colab.kernel.invokeFunction('convertToInteractive',\n",
              "                                                     [key], {});\n",
              "          if (!dataTable) return;\n",
              "\n",
              "          const docLinkHtml = 'Like what you see? Visit the ' +\n",
              "            '<a target=\"_blank\" href=https://colab.research.google.com/notebooks/data_table.ipynb>data table notebook</a>'\n",
              "            + ' to learn more about interactive tables.';\n",
              "          element.innerHTML = '';\n",
              "          dataTable['output_type'] = 'display_data';\n",
              "          await google.colab.output.renderOutput(dataTable, element);\n",
              "          const docLink = document.createElement('div');\n",
              "          docLink.innerHTML = docLinkHtml;\n",
              "          element.appendChild(docLink);\n",
              "        }\n",
              "      </script>\n",
              "    </div>\n",
              "  </div>\n",
              "  "
            ]
          },
          "metadata": {},
          "execution_count": 31
        }
      ]
    },
    {
      "cell_type": "code",
      "source": [
        "df_eval[df_eval.prediction==\"yes\"][:2]"
      ],
      "metadata": {
        "colab": {
          "base_uri": "https://localhost:8080/",
          "height": 112
        },
        "id": "q76omBGQ9js6",
        "outputId": "e66fd622-5e81-4d79-be0b-b07be6959f97"
      },
      "execution_count": null,
      "outputs": [
        {
          "output_type": "execute_result",
          "data": {
            "text/plain": [
              "      prediction labels\n",
              "19285        yes    NaN\n",
              "19286        yes    yes"
            ],
            "text/html": [
              "\n",
              "  <div id=\"df-1662c67d-c3da-40fb-a579-9253b76342ce\">\n",
              "    <div class=\"colab-df-container\">\n",
              "      <div>\n",
              "<style scoped>\n",
              "    .dataframe tbody tr th:only-of-type {\n",
              "        vertical-align: middle;\n",
              "    }\n",
              "\n",
              "    .dataframe tbody tr th {\n",
              "        vertical-align: top;\n",
              "    }\n",
              "\n",
              "    .dataframe thead th {\n",
              "        text-align: right;\n",
              "    }\n",
              "</style>\n",
              "<table border=\"1\" class=\"dataframe\">\n",
              "  <thead>\n",
              "    <tr style=\"text-align: right;\">\n",
              "      <th></th>\n",
              "      <th>prediction</th>\n",
              "      <th>labels</th>\n",
              "    </tr>\n",
              "  </thead>\n",
              "  <tbody>\n",
              "    <tr>\n",
              "      <th>19285</th>\n",
              "      <td>yes</td>\n",
              "      <td>NaN</td>\n",
              "    </tr>\n",
              "    <tr>\n",
              "      <th>19286</th>\n",
              "      <td>yes</td>\n",
              "      <td>yes</td>\n",
              "    </tr>\n",
              "  </tbody>\n",
              "</table>\n",
              "</div>\n",
              "      <button class=\"colab-df-convert\" onclick=\"convertToInteractive('df-1662c67d-c3da-40fb-a579-9253b76342ce')\"\n",
              "              title=\"Convert this dataframe to an interactive table.\"\n",
              "              style=\"display:none;\">\n",
              "        \n",
              "  <svg xmlns=\"http://www.w3.org/2000/svg\" height=\"24px\"viewBox=\"0 0 24 24\"\n",
              "       width=\"24px\">\n",
              "    <path d=\"M0 0h24v24H0V0z\" fill=\"none\"/>\n",
              "    <path d=\"M18.56 5.44l.94 2.06.94-2.06 2.06-.94-2.06-.94-.94-2.06-.94 2.06-2.06.94zm-11 1L8.5 8.5l.94-2.06 2.06-.94-2.06-.94L8.5 2.5l-.94 2.06-2.06.94zm10 10l.94 2.06.94-2.06 2.06-.94-2.06-.94-.94-2.06-.94 2.06-2.06.94z\"/><path d=\"M17.41 7.96l-1.37-1.37c-.4-.4-.92-.59-1.43-.59-.52 0-1.04.2-1.43.59L10.3 9.45l-7.72 7.72c-.78.78-.78 2.05 0 2.83L4 21.41c.39.39.9.59 1.41.59.51 0 1.02-.2 1.41-.59l7.78-7.78 2.81-2.81c.8-.78.8-2.07 0-2.86zM5.41 20L4 18.59l7.72-7.72 1.47 1.35L5.41 20z\"/>\n",
              "  </svg>\n",
              "      </button>\n",
              "      \n",
              "  <style>\n",
              "    .colab-df-container {\n",
              "      display:flex;\n",
              "      flex-wrap:wrap;\n",
              "      gap: 12px;\n",
              "    }\n",
              "\n",
              "    .colab-df-convert {\n",
              "      background-color: #E8F0FE;\n",
              "      border: none;\n",
              "      border-radius: 50%;\n",
              "      cursor: pointer;\n",
              "      display: none;\n",
              "      fill: #1967D2;\n",
              "      height: 32px;\n",
              "      padding: 0 0 0 0;\n",
              "      width: 32px;\n",
              "    }\n",
              "\n",
              "    .colab-df-convert:hover {\n",
              "      background-color: #E2EBFA;\n",
              "      box-shadow: 0px 1px 2px rgba(60, 64, 67, 0.3), 0px 1px 3px 1px rgba(60, 64, 67, 0.15);\n",
              "      fill: #174EA6;\n",
              "    }\n",
              "\n",
              "    [theme=dark] .colab-df-convert {\n",
              "      background-color: #3B4455;\n",
              "      fill: #D2E3FC;\n",
              "    }\n",
              "\n",
              "    [theme=dark] .colab-df-convert:hover {\n",
              "      background-color: #434B5C;\n",
              "      box-shadow: 0px 1px 3px 1px rgba(0, 0, 0, 0.15);\n",
              "      filter: drop-shadow(0px 1px 2px rgba(0, 0, 0, 0.3));\n",
              "      fill: #FFFFFF;\n",
              "    }\n",
              "  </style>\n",
              "\n",
              "      <script>\n",
              "        const buttonEl =\n",
              "          document.querySelector('#df-1662c67d-c3da-40fb-a579-9253b76342ce button.colab-df-convert');\n",
              "        buttonEl.style.display =\n",
              "          google.colab.kernel.accessAllowed ? 'block' : 'none';\n",
              "\n",
              "        async function convertToInteractive(key) {\n",
              "          const element = document.querySelector('#df-1662c67d-c3da-40fb-a579-9253b76342ce');\n",
              "          const dataTable =\n",
              "            await google.colab.kernel.invokeFunction('convertToInteractive',\n",
              "                                                     [key], {});\n",
              "          if (!dataTable) return;\n",
              "\n",
              "          const docLinkHtml = 'Like what you see? Visit the ' +\n",
              "            '<a target=\"_blank\" href=https://colab.research.google.com/notebooks/data_table.ipynb>data table notebook</a>'\n",
              "            + ' to learn more about interactive tables.';\n",
              "          element.innerHTML = '';\n",
              "          dataTable['output_type'] = 'display_data';\n",
              "          await google.colab.output.renderOutput(dataTable, element);\n",
              "          const docLink = document.createElement('div');\n",
              "          docLink.innerHTML = docLinkHtml;\n",
              "          element.appendChild(docLink);\n",
              "        }\n",
              "      </script>\n",
              "    </div>\n",
              "  </div>\n",
              "  "
            ]
          },
          "metadata": {},
          "execution_count": 32
        }
      ]
    },
    {
      "cell_type": "markdown",
      "source": [
        "So this feature is so dominant in the model, that it explains the prediction on its own.\n",
        "Maybe if we perform standardization, the situation changes.\n"
      ],
      "metadata": {
        "id": "sU3TmN5C95En"
      }
    },
    {
      "cell_type": "markdown",
      "source": [
        "### kmeans on standardized train set"
      ],
      "metadata": {
        "id": "PafDqFlZW2yO"
      }
    },
    {
      "cell_type": "code",
      "source": [
        "SC =StandardScaler()\n",
        "SC.fit(df_comb)\n",
        "df_comb_std=pd.DataFrame(SC.transform(df_comb), columns=df_comb.columns, index=df_comb.index)\n",
        "df_comb_std"
      ],
      "metadata": {
        "id": "hygMwdx1N4Nl",
        "colab": {
          "base_uri": "https://localhost:8080/",
          "height": 505
        },
        "outputId": "5ab5a68a-a0f8-485e-c9bf-042f7249a62d"
      },
      "execution_count": null,
      "outputs": [
        {
          "output_type": "execute_result",
          "data": {
            "text/plain": [
              "       job_admin.  job_blue-collar  job_entrepreneur  job_housemaid  \\\n",
              "0       -0.633784        -0.478237         -0.192463       6.571568   \n",
              "1       -0.633784        -0.478237         -0.192463      -0.152171   \n",
              "2        1.577824        -0.478237         -0.192463      -0.152171   \n",
              "3       -0.633784        -0.478237         -0.192463      -0.152171   \n",
              "4        1.577824        -0.478237         -0.192463      -0.152171   \n",
              "...           ...              ...               ...            ...   \n",
              "30483   -0.633784        -0.478237         -0.192463      -0.152171   \n",
              "30484   -0.633784         2.091013         -0.192463      -0.152171   \n",
              "30485   -0.633784        -0.478237         -0.192463      -0.152171   \n",
              "30486   -0.633784        -0.478237         -0.192463      -0.152171   \n",
              "30487   -0.633784        -0.478237         -0.192463      -0.152171   \n",
              "\n",
              "       job_management  job_retired  job_self-employed  job_services  \\\n",
              "0           -0.286387    -0.203817          -0.192738     -0.321556   \n",
              "1           -0.286387    -0.203817          -0.192738      3.109877   \n",
              "2           -0.286387    -0.203817          -0.192738     -0.321556   \n",
              "3           -0.286387    -0.203817          -0.192738      3.109877   \n",
              "4           -0.286387    -0.203817          -0.192738     -0.321556   \n",
              "...               ...          ...                ...           ...   \n",
              "30483       -0.286387     4.906360          -0.192738     -0.321556   \n",
              "30484       -0.286387    -0.203817          -0.192738     -0.321556   \n",
              "30485       -0.286387     4.906360          -0.192738     -0.321556   \n",
              "30486       -0.286387    -0.203817          -0.192738     -0.321556   \n",
              "30487       -0.286387     4.906360          -0.192738     -0.321556   \n",
              "\n",
              "       job_student  job_technician  ...  poutcome_nonexistent  \\\n",
              "0        -0.142886       -0.467749  ...              0.424333   \n",
              "1        -0.142886       -0.467749  ...              0.424333   \n",
              "2        -0.142886       -0.467749  ...              0.424333   \n",
              "3        -0.142886       -0.467749  ...              0.424333   \n",
              "4        -0.142886       -0.467749  ...              0.424333   \n",
              "...            ...             ...  ...                   ...   \n",
              "30483    -0.142886       -0.467749  ...              0.424333   \n",
              "30484    -0.142886       -0.467749  ...              0.424333   \n",
              "30485    -0.142886       -0.467749  ...              0.424333   \n",
              "30486    -0.142886        2.137901  ...              0.424333   \n",
              "30487    -0.142886       -0.467749  ...             -2.356638   \n",
              "\n",
              "       poutcome_success       age  campaign  previous  emp.var.rate  \\\n",
              "0             -0.201625  1.642253 -0.559335 -0.371616      0.727477   \n",
              "1             -0.201625 -0.196452 -0.559335 -0.371616      0.727477   \n",
              "2             -0.201625  0.093870 -0.559335 -0.371616      0.727477   \n",
              "3             -0.201625  1.642253 -0.559335 -0.371616      0.727477   \n",
              "4             -0.201625  1.932575 -0.559335 -0.371616      0.727477   \n",
              "...                 ...       ...       ...       ...           ...   \n",
              "30483         -0.201625  3.287410 -0.559335 -0.371616     -0.638666   \n",
              "30484         -0.201625  0.674513 -0.559335 -0.371616     -0.638666   \n",
              "30485         -0.201625  1.642253 -0.191702 -0.371616     -0.638666   \n",
              "30486         -0.201625  0.480965 -0.559335 -0.371616     -0.638666   \n",
              "30487         -0.201625  3.384184  0.175930  1.541237     -0.638666   \n",
              "\n",
              "       cons.price.idx  cons.conf.idx  euribor3m  nr.employed  \n",
              "0            0.804095       0.877451   0.786102     0.401648  \n",
              "1            0.804095       0.877451   0.786102     0.401648  \n",
              "2            0.804095       0.877451   0.786102     0.401648  \n",
              "3            0.804095       0.877451   0.786102     0.401648  \n",
              "4            0.804095       0.877451   0.786102     0.401648  \n",
              "...               ...            ...        ...          ...  \n",
              "30483        2.124640      -2.129332  -1.368408    -2.624025  \n",
              "30484        2.124640      -2.129332  -1.368408    -2.624025  \n",
              "30485        2.124640      -2.129332  -1.368408    -2.624025  \n",
              "30486        2.124640      -2.129332  -1.368408    -2.624025  \n",
              "30487        2.124640      -2.129332  -1.368408    -2.624025  \n",
              "\n",
              "[30488 rows x 55 columns]"
            ],
            "text/html": [
              "\n",
              "  <div id=\"df-9603af8e-7ff7-40e5-ab98-f14175cffb9b\">\n",
              "    <div class=\"colab-df-container\">\n",
              "      <div>\n",
              "<style scoped>\n",
              "    .dataframe tbody tr th:only-of-type {\n",
              "        vertical-align: middle;\n",
              "    }\n",
              "\n",
              "    .dataframe tbody tr th {\n",
              "        vertical-align: top;\n",
              "    }\n",
              "\n",
              "    .dataframe thead th {\n",
              "        text-align: right;\n",
              "    }\n",
              "</style>\n",
              "<table border=\"1\" class=\"dataframe\">\n",
              "  <thead>\n",
              "    <tr style=\"text-align: right;\">\n",
              "      <th></th>\n",
              "      <th>job_admin.</th>\n",
              "      <th>job_blue-collar</th>\n",
              "      <th>job_entrepreneur</th>\n",
              "      <th>job_housemaid</th>\n",
              "      <th>job_management</th>\n",
              "      <th>job_retired</th>\n",
              "      <th>job_self-employed</th>\n",
              "      <th>job_services</th>\n",
              "      <th>job_student</th>\n",
              "      <th>job_technician</th>\n",
              "      <th>...</th>\n",
              "      <th>poutcome_nonexistent</th>\n",
              "      <th>poutcome_success</th>\n",
              "      <th>age</th>\n",
              "      <th>campaign</th>\n",
              "      <th>previous</th>\n",
              "      <th>emp.var.rate</th>\n",
              "      <th>cons.price.idx</th>\n",
              "      <th>cons.conf.idx</th>\n",
              "      <th>euribor3m</th>\n",
              "      <th>nr.employed</th>\n",
              "    </tr>\n",
              "  </thead>\n",
              "  <tbody>\n",
              "    <tr>\n",
              "      <th>0</th>\n",
              "      <td>-0.633784</td>\n",
              "      <td>-0.478237</td>\n",
              "      <td>-0.192463</td>\n",
              "      <td>6.571568</td>\n",
              "      <td>-0.286387</td>\n",
              "      <td>-0.203817</td>\n",
              "      <td>-0.192738</td>\n",
              "      <td>-0.321556</td>\n",
              "      <td>-0.142886</td>\n",
              "      <td>-0.467749</td>\n",
              "      <td>...</td>\n",
              "      <td>0.424333</td>\n",
              "      <td>-0.201625</td>\n",
              "      <td>1.642253</td>\n",
              "      <td>-0.559335</td>\n",
              "      <td>-0.371616</td>\n",
              "      <td>0.727477</td>\n",
              "      <td>0.804095</td>\n",
              "      <td>0.877451</td>\n",
              "      <td>0.786102</td>\n",
              "      <td>0.401648</td>\n",
              "    </tr>\n",
              "    <tr>\n",
              "      <th>1</th>\n",
              "      <td>-0.633784</td>\n",
              "      <td>-0.478237</td>\n",
              "      <td>-0.192463</td>\n",
              "      <td>-0.152171</td>\n",
              "      <td>-0.286387</td>\n",
              "      <td>-0.203817</td>\n",
              "      <td>-0.192738</td>\n",
              "      <td>3.109877</td>\n",
              "      <td>-0.142886</td>\n",
              "      <td>-0.467749</td>\n",
              "      <td>...</td>\n",
              "      <td>0.424333</td>\n",
              "      <td>-0.201625</td>\n",
              "      <td>-0.196452</td>\n",
              "      <td>-0.559335</td>\n",
              "      <td>-0.371616</td>\n",
              "      <td>0.727477</td>\n",
              "      <td>0.804095</td>\n",
              "      <td>0.877451</td>\n",
              "      <td>0.786102</td>\n",
              "      <td>0.401648</td>\n",
              "    </tr>\n",
              "    <tr>\n",
              "      <th>2</th>\n",
              "      <td>1.577824</td>\n",
              "      <td>-0.478237</td>\n",
              "      <td>-0.192463</td>\n",
              "      <td>-0.152171</td>\n",
              "      <td>-0.286387</td>\n",
              "      <td>-0.203817</td>\n",
              "      <td>-0.192738</td>\n",
              "      <td>-0.321556</td>\n",
              "      <td>-0.142886</td>\n",
              "      <td>-0.467749</td>\n",
              "      <td>...</td>\n",
              "      <td>0.424333</td>\n",
              "      <td>-0.201625</td>\n",
              "      <td>0.093870</td>\n",
              "      <td>-0.559335</td>\n",
              "      <td>-0.371616</td>\n",
              "      <td>0.727477</td>\n",
              "      <td>0.804095</td>\n",
              "      <td>0.877451</td>\n",
              "      <td>0.786102</td>\n",
              "      <td>0.401648</td>\n",
              "    </tr>\n",
              "    <tr>\n",
              "      <th>3</th>\n",
              "      <td>-0.633784</td>\n",
              "      <td>-0.478237</td>\n",
              "      <td>-0.192463</td>\n",
              "      <td>-0.152171</td>\n",
              "      <td>-0.286387</td>\n",
              "      <td>-0.203817</td>\n",
              "      <td>-0.192738</td>\n",
              "      <td>3.109877</td>\n",
              "      <td>-0.142886</td>\n",
              "      <td>-0.467749</td>\n",
              "      <td>...</td>\n",
              "      <td>0.424333</td>\n",
              "      <td>-0.201625</td>\n",
              "      <td>1.642253</td>\n",
              "      <td>-0.559335</td>\n",
              "      <td>-0.371616</td>\n",
              "      <td>0.727477</td>\n",
              "      <td>0.804095</td>\n",
              "      <td>0.877451</td>\n",
              "      <td>0.786102</td>\n",
              "      <td>0.401648</td>\n",
              "    </tr>\n",
              "    <tr>\n",
              "      <th>4</th>\n",
              "      <td>1.577824</td>\n",
              "      <td>-0.478237</td>\n",
              "      <td>-0.192463</td>\n",
              "      <td>-0.152171</td>\n",
              "      <td>-0.286387</td>\n",
              "      <td>-0.203817</td>\n",
              "      <td>-0.192738</td>\n",
              "      <td>-0.321556</td>\n",
              "      <td>-0.142886</td>\n",
              "      <td>-0.467749</td>\n",
              "      <td>...</td>\n",
              "      <td>0.424333</td>\n",
              "      <td>-0.201625</td>\n",
              "      <td>1.932575</td>\n",
              "      <td>-0.559335</td>\n",
              "      <td>-0.371616</td>\n",
              "      <td>0.727477</td>\n",
              "      <td>0.804095</td>\n",
              "      <td>0.877451</td>\n",
              "      <td>0.786102</td>\n",
              "      <td>0.401648</td>\n",
              "    </tr>\n",
              "    <tr>\n",
              "      <th>...</th>\n",
              "      <td>...</td>\n",
              "      <td>...</td>\n",
              "      <td>...</td>\n",
              "      <td>...</td>\n",
              "      <td>...</td>\n",
              "      <td>...</td>\n",
              "      <td>...</td>\n",
              "      <td>...</td>\n",
              "      <td>...</td>\n",
              "      <td>...</td>\n",
              "      <td>...</td>\n",
              "      <td>...</td>\n",
              "      <td>...</td>\n",
              "      <td>...</td>\n",
              "      <td>...</td>\n",
              "      <td>...</td>\n",
              "      <td>...</td>\n",
              "      <td>...</td>\n",
              "      <td>...</td>\n",
              "      <td>...</td>\n",
              "      <td>...</td>\n",
              "    </tr>\n",
              "    <tr>\n",
              "      <th>30483</th>\n",
              "      <td>-0.633784</td>\n",
              "      <td>-0.478237</td>\n",
              "      <td>-0.192463</td>\n",
              "      <td>-0.152171</td>\n",
              "      <td>-0.286387</td>\n",
              "      <td>4.906360</td>\n",
              "      <td>-0.192738</td>\n",
              "      <td>-0.321556</td>\n",
              "      <td>-0.142886</td>\n",
              "      <td>-0.467749</td>\n",
              "      <td>...</td>\n",
              "      <td>0.424333</td>\n",
              "      <td>-0.201625</td>\n",
              "      <td>3.287410</td>\n",
              "      <td>-0.559335</td>\n",
              "      <td>-0.371616</td>\n",
              "      <td>-0.638666</td>\n",
              "      <td>2.124640</td>\n",
              "      <td>-2.129332</td>\n",
              "      <td>-1.368408</td>\n",
              "      <td>-2.624025</td>\n",
              "    </tr>\n",
              "    <tr>\n",
              "      <th>30484</th>\n",
              "      <td>-0.633784</td>\n",
              "      <td>2.091013</td>\n",
              "      <td>-0.192463</td>\n",
              "      <td>-0.152171</td>\n",
              "      <td>-0.286387</td>\n",
              "      <td>-0.203817</td>\n",
              "      <td>-0.192738</td>\n",
              "      <td>-0.321556</td>\n",
              "      <td>-0.142886</td>\n",
              "      <td>-0.467749</td>\n",
              "      <td>...</td>\n",
              "      <td>0.424333</td>\n",
              "      <td>-0.201625</td>\n",
              "      <td>0.674513</td>\n",
              "      <td>-0.559335</td>\n",
              "      <td>-0.371616</td>\n",
              "      <td>-0.638666</td>\n",
              "      <td>2.124640</td>\n",
              "      <td>-2.129332</td>\n",
              "      <td>-1.368408</td>\n",
              "      <td>-2.624025</td>\n",
              "    </tr>\n",
              "    <tr>\n",
              "      <th>30485</th>\n",
              "      <td>-0.633784</td>\n",
              "      <td>-0.478237</td>\n",
              "      <td>-0.192463</td>\n",
              "      <td>-0.152171</td>\n",
              "      <td>-0.286387</td>\n",
              "      <td>4.906360</td>\n",
              "      <td>-0.192738</td>\n",
              "      <td>-0.321556</td>\n",
              "      <td>-0.142886</td>\n",
              "      <td>-0.467749</td>\n",
              "      <td>...</td>\n",
              "      <td>0.424333</td>\n",
              "      <td>-0.201625</td>\n",
              "      <td>1.642253</td>\n",
              "      <td>-0.191702</td>\n",
              "      <td>-0.371616</td>\n",
              "      <td>-0.638666</td>\n",
              "      <td>2.124640</td>\n",
              "      <td>-2.129332</td>\n",
              "      <td>-1.368408</td>\n",
              "      <td>-2.624025</td>\n",
              "    </tr>\n",
              "    <tr>\n",
              "      <th>30486</th>\n",
              "      <td>-0.633784</td>\n",
              "      <td>-0.478237</td>\n",
              "      <td>-0.192463</td>\n",
              "      <td>-0.152171</td>\n",
              "      <td>-0.286387</td>\n",
              "      <td>-0.203817</td>\n",
              "      <td>-0.192738</td>\n",
              "      <td>-0.321556</td>\n",
              "      <td>-0.142886</td>\n",
              "      <td>2.137901</td>\n",
              "      <td>...</td>\n",
              "      <td>0.424333</td>\n",
              "      <td>-0.201625</td>\n",
              "      <td>0.480965</td>\n",
              "      <td>-0.559335</td>\n",
              "      <td>-0.371616</td>\n",
              "      <td>-0.638666</td>\n",
              "      <td>2.124640</td>\n",
              "      <td>-2.129332</td>\n",
              "      <td>-1.368408</td>\n",
              "      <td>-2.624025</td>\n",
              "    </tr>\n",
              "    <tr>\n",
              "      <th>30487</th>\n",
              "      <td>-0.633784</td>\n",
              "      <td>-0.478237</td>\n",
              "      <td>-0.192463</td>\n",
              "      <td>-0.152171</td>\n",
              "      <td>-0.286387</td>\n",
              "      <td>4.906360</td>\n",
              "      <td>-0.192738</td>\n",
              "      <td>-0.321556</td>\n",
              "      <td>-0.142886</td>\n",
              "      <td>-0.467749</td>\n",
              "      <td>...</td>\n",
              "      <td>-2.356638</td>\n",
              "      <td>-0.201625</td>\n",
              "      <td>3.384184</td>\n",
              "      <td>0.175930</td>\n",
              "      <td>1.541237</td>\n",
              "      <td>-0.638666</td>\n",
              "      <td>2.124640</td>\n",
              "      <td>-2.129332</td>\n",
              "      <td>-1.368408</td>\n",
              "      <td>-2.624025</td>\n",
              "    </tr>\n",
              "  </tbody>\n",
              "</table>\n",
              "<p>30488 rows × 55 columns</p>\n",
              "</div>\n",
              "      <button class=\"colab-df-convert\" onclick=\"convertToInteractive('df-9603af8e-7ff7-40e5-ab98-f14175cffb9b')\"\n",
              "              title=\"Convert this dataframe to an interactive table.\"\n",
              "              style=\"display:none;\">\n",
              "        \n",
              "  <svg xmlns=\"http://www.w3.org/2000/svg\" height=\"24px\"viewBox=\"0 0 24 24\"\n",
              "       width=\"24px\">\n",
              "    <path d=\"M0 0h24v24H0V0z\" fill=\"none\"/>\n",
              "    <path d=\"M18.56 5.44l.94 2.06.94-2.06 2.06-.94-2.06-.94-.94-2.06-.94 2.06-2.06.94zm-11 1L8.5 8.5l.94-2.06 2.06-.94-2.06-.94L8.5 2.5l-.94 2.06-2.06.94zm10 10l.94 2.06.94-2.06 2.06-.94-2.06-.94-.94-2.06-.94 2.06-2.06.94z\"/><path d=\"M17.41 7.96l-1.37-1.37c-.4-.4-.92-.59-1.43-.59-.52 0-1.04.2-1.43.59L10.3 9.45l-7.72 7.72c-.78.78-.78 2.05 0 2.83L4 21.41c.39.39.9.59 1.41.59.51 0 1.02-.2 1.41-.59l7.78-7.78 2.81-2.81c.8-.78.8-2.07 0-2.86zM5.41 20L4 18.59l7.72-7.72 1.47 1.35L5.41 20z\"/>\n",
              "  </svg>\n",
              "      </button>\n",
              "      \n",
              "  <style>\n",
              "    .colab-df-container {\n",
              "      display:flex;\n",
              "      flex-wrap:wrap;\n",
              "      gap: 12px;\n",
              "    }\n",
              "\n",
              "    .colab-df-convert {\n",
              "      background-color: #E8F0FE;\n",
              "      border: none;\n",
              "      border-radius: 50%;\n",
              "      cursor: pointer;\n",
              "      display: none;\n",
              "      fill: #1967D2;\n",
              "      height: 32px;\n",
              "      padding: 0 0 0 0;\n",
              "      width: 32px;\n",
              "    }\n",
              "\n",
              "    .colab-df-convert:hover {\n",
              "      background-color: #E2EBFA;\n",
              "      box-shadow: 0px 1px 2px rgba(60, 64, 67, 0.3), 0px 1px 3px 1px rgba(60, 64, 67, 0.15);\n",
              "      fill: #174EA6;\n",
              "    }\n",
              "\n",
              "    [theme=dark] .colab-df-convert {\n",
              "      background-color: #3B4455;\n",
              "      fill: #D2E3FC;\n",
              "    }\n",
              "\n",
              "    [theme=dark] .colab-df-convert:hover {\n",
              "      background-color: #434B5C;\n",
              "      box-shadow: 0px 1px 3px 1px rgba(0, 0, 0, 0.15);\n",
              "      filter: drop-shadow(0px 1px 2px rgba(0, 0, 0, 0.3));\n",
              "      fill: #FFFFFF;\n",
              "    }\n",
              "  </style>\n",
              "\n",
              "      <script>\n",
              "        const buttonEl =\n",
              "          document.querySelector('#df-9603af8e-7ff7-40e5-ab98-f14175cffb9b button.colab-df-convert');\n",
              "        buttonEl.style.display =\n",
              "          google.colab.kernel.accessAllowed ? 'block' : 'none';\n",
              "\n",
              "        async function convertToInteractive(key) {\n",
              "          const element = document.querySelector('#df-9603af8e-7ff7-40e5-ab98-f14175cffb9b');\n",
              "          const dataTable =\n",
              "            await google.colab.kernel.invokeFunction('convertToInteractive',\n",
              "                                                     [key], {});\n",
              "          if (!dataTable) return;\n",
              "\n",
              "          const docLinkHtml = 'Like what you see? Visit the ' +\n",
              "            '<a target=\"_blank\" href=https://colab.research.google.com/notebooks/data_table.ipynb>data table notebook</a>'\n",
              "            + ' to learn more about interactive tables.';\n",
              "          element.innerHTML = '';\n",
              "          dataTable['output_type'] = 'display_data';\n",
              "          await google.colab.output.renderOutput(dataTable, element);\n",
              "          const docLink = document.createElement('div');\n",
              "          docLink.innerHTML = docLinkHtml;\n",
              "          element.appendChild(docLink);\n",
              "        }\n",
              "      </script>\n",
              "    </div>\n",
              "  </div>\n",
              "  "
            ]
          },
          "metadata": {},
          "execution_count": 33
        }
      ]
    },
    {
      "cell_type": "code",
      "source": [
        "kmeans = KMeans(n_clusters=2)\n",
        "kmeans.fit(df_comb_std)\n",
        "km_pred_std = kmeans.predict(df_comb_std)\n",
        "df_eval_std=pd.DataFrame(km_pred_std, columns=[\"prediction\"])\n",
        "df_eval_std[\"labels\"]=df_labels.labels\n",
        "df_eval_std.loc[df_eval_std.prediction==0, \"prediction\"]=\"no\"\n",
        "df_eval_std.loc[df_eval_std.prediction==1, \"prediction\"]=\"yes\"\n",
        "df_eval_sample_std=df_eval_std.drop(df_eval_std.loc[df_eval_std[\"labels\"].isna()==True].index)\n",
        "df_eval_sample_std.value_counts()"
      ],
      "metadata": {
        "colab": {
          "base_uri": "https://localhost:8080/"
        },
        "id": "fYnENPw9900b",
        "outputId": "4c107282-79a5-441b-b98d-7493083571b9"
      },
      "execution_count": null,
      "outputs": [
        {
          "output_type": "execute_result",
          "data": {
            "text/plain": [
              "prediction  labels\n",
              "no          no        304\n",
              "yes         no        138\n",
              "            yes        44\n",
              "no          yes        14\n",
              "dtype: int64"
            ]
          },
          "metadata": {},
          "execution_count": 56
        }
      ]
    },
    {
      "cell_type": "code",
      "source": [
        "conf_std=confusion_matrix(df_eval_sample_std.labels, df_eval_sample_std.prediction)\n",
        "bal_acc(conf_std)"
      ],
      "metadata": {
        "colab": {
          "base_uri": "https://localhost:8080/"
        },
        "id": "C4yeiq4FBT92",
        "outputId": "8e7f8ef7-1bdc-4e7a-9e01-509a3196331d"
      },
      "execution_count": null,
      "outputs": [
        {
          "output_type": "execute_result",
          "data": {
            "text/plain": [
              "0.7232017475425183"
            ]
          },
          "metadata": {},
          "execution_count": 57
        }
      ]
    },
    {
      "cell_type": "code",
      "source": [
        "cm_disp(conf_std).plot()\n",
        "plt.show()"
      ],
      "metadata": {
        "colab": {
          "base_uri": "https://localhost:8080/",
          "height": 280
        },
        "id": "YsBnqnYkCqg7",
        "outputId": "1e450a89-17d1-428e-b476-85612917d63d"
      },
      "execution_count": null,
      "outputs": [
        {
          "output_type": "display_data",
          "data": {
            "text/plain": [
              "<Figure size 432x288 with 2 Axes>"
            ],
            "image/png": "[encoded data removed]"
          },
          "metadata": {
            "needs_background": "light"
          }
        }
      ]
    },
    {
      "cell_type": "markdown",
      "source": [
        "Well, its not what I call a breakthrough. Most probably it is the same behaviour."
      ],
      "metadata": {
        "id": "7jYPCZVmBqnO"
      }
    },
    {
      "cell_type": "code",
      "source": [
        "plt.scatter(df_eval_std.index, df_eval_std.prediction)"
      ],
      "metadata": {
        "colab": {
          "base_uri": "https://localhost:8080/",
          "height": 283
        },
        "id": "cy6ix0zoB81N",
        "outputId": "d73e79f9-382f-42d6-c6c6-b1dab2e7cb26"
      },
      "execution_count": null,
      "outputs": [
        {
          "output_type": "execute_result",
          "data": {
            "text/plain": [
              "<matplotlib.collections.PathCollection at 0x7f3b08fb62d0>"
            ]
          },
          "metadata": {},
          "execution_count": 37
        },
        {
          "output_type": "display_data",
          "data": {
            "text/plain": [
              "<Figure size 432x288 with 1 Axes>"
            ],
            "image/png": "[encoded data removed]"
          },
          "metadata": {
            "needs_background": "light"
          }
        }
      ]
    },
    {
      "cell_type": "code",
      "source": [],
      "metadata": {
        "id": "1Sm-vQMUCK5H"
      },
      "execution_count": null,
      "outputs": []
    },
    {
      "cell_type": "markdown",
      "source": [
        "Well, there is at least a grey zone where both the potential prediction values appear. And it slighly increased the balanced accuracy as well."
      ],
      "metadata": {
        "id": "6JQRMbvKCNci"
      }
    },
    {
      "cell_type": "markdown",
      "source": [
        "#### submission file"
      ],
      "metadata": {
        "id": "hhehSd-ILPzh"
      }
    },
    {
      "cell_type": "code",
      "source": [
        "df_eval_std.prediction.value_counts()"
      ],
      "metadata": {
        "colab": {
          "base_uri": "https://localhost:8080/"
        },
        "id": "Nv21JIHLPSFN",
        "outputId": "471ed2ac-6a1b-4f78-f1b0-cac2afa04330"
      },
      "execution_count": null,
      "outputs": [
        {
          "output_type": "execute_result",
          "data": {
            "text/plain": [
              "yes    18674\n",
              "no     11814\n",
              "Name: prediction, dtype: int64"
            ]
          },
          "metadata": {},
          "execution_count": 38
        }
      ]
    },
    {
      "cell_type": "code",
      "source": [
        "df_eval_std.prediction.to_csv('/content/dm_competition5_Norbert_Peto.csv', index = False, header=False)"
      ],
      "metadata": {
        "id": "E6KfLUcHgcLL"
      },
      "execution_count": null,
      "outputs": []
    },
    {
      "cell_type": "markdown",
      "source": [
        "## DBScan model"
      ],
      "metadata": {
        "id": "rcyTIbZKUA6y"
      }
    },
    {
      "cell_type": "code",
      "source": [
        "ind=list(df_labels[df_labels.labels.isna()==False].index)\n",
        "df_train=df_comb_std.loc[ind]"
      ],
      "metadata": {
        "id": "-9Cgez8PfTVl"
      },
      "execution_count": null,
      "outputs": []
    },
    {
      "cell_type": "code",
      "source": [
        "dbscan=DBSCAN()\n",
        "\n",
        "parameters={\"eps\": list(np.linspace(12.5,13.5, 11)), \"metric\": [\"l1\"], \"min_samples\": [10, 50, 100, 200, 250, 500]}"
      ],
      "metadata": {
        "id": "nTY-3W13XKpj"
      },
      "execution_count": null,
      "outputs": []
    },
    {
      "cell_type": "code",
      "source": [
        "rnd_src = RandomizedSearchCV(estimator=dbscan, param_distributions = parameters,\n",
        "                               cv = 5, n_iter = 20, n_jobs=-1, scoring=\"balanced_accuracy\")\n",
        "rnd_src.fit(df_train, df_labels.labels[df_labels.labels.isna()==False])\n",
        "\n",
        "print(\"\\n The best estimator across ALL searched params:\\n\", rnd_src.best_estimator_)\n",
        "print(\"\\n The best score across ALL searched params:\\n\", rnd_src.best_score_)\n",
        "print(\"\\n The best parameters across ALL searched params:\\n\", rnd_src.best_params_)"
      ],
      "metadata": {
        "colab": {
          "base_uri": "https://localhost:8080/"
        },
        "id": "Qn2SYW09UonI",
        "outputId": "a88ddc13-ddef-4159-e152-9a2b90460fe4"
      },
      "execution_count": null,
      "outputs": [
        {
          "output_type": "stream",
          "name": "stdout",
          "text": [
            "\n",
            " The best estimator across ALL searched params:\n",
            " DBSCAN(eps=12.6, metric='l1', min_samples=200)\n",
            "\n",
            " The best score across ALL searched params:\n",
            " nan\n",
            "\n",
            " The best parameters across ALL searched params:\n",
            " {'min_samples': 200, 'metric': 'l1', 'eps': 12.6}\n"
          ]
        },
        {
          "output_type": "stream",
          "name": "stderr",
          "text": [
            "/usr/local/lib/python3.7/dist-packages/sklearn/model_selection/_search.py:972: UserWarning: One or more of the test scores are non-finite: [nan nan nan nan nan nan nan nan nan nan nan nan nan nan nan nan nan nan\n",
            " nan nan]\n",
            "  category=UserWarning,\n"
          ]
        }
      ]
    },
    {
      "cell_type": "code",
      "source": [
        "dbscan = DBSCAN(eps=12.6, metric=\"l1\", min_samples=200)\n",
        "dbscan.fit(df_comb_std)\n",
        "db_labels=dbscan.labels_\n",
        "np.unique(db_labels, return_counts=True)"
      ],
      "metadata": {
        "colab": {
          "base_uri": "https://localhost:8080/"
        },
        "id": "39Ds8Ef3UD9V",
        "outputId": "f7890025-e22a-4ce4-8d05-baf0ba503bbb"
      },
      "execution_count": null,
      "outputs": [
        {
          "output_type": "execute_result",
          "data": {
            "text/plain": [
              "(array([-1,  0]), array([ 4934, 25554]))"
            ]
          },
          "metadata": {},
          "execution_count": 64
        }
      ]
    },
    {
      "cell_type": "code",
      "source": [
        "df_eval_std[\"dbscan_pred\"]=db_labels\n",
        "df_eval_std.loc[df_eval_std.dbscan_pred==0, \"dbscan_pred\"]=\"no\"\n",
        "df_eval_std.loc[df_eval_std.dbscan_pred==-1, \"dbscan_pred\"]=\"yes\"\n",
        "df_eval_sample_std=df_eval_std.drop(df_eval_std.loc[df_eval_std[\"labels\"].isna()==True].index)\n",
        "df_eval_sample_std.value_counts()"
      ],
      "metadata": {
        "colab": {
          "base_uri": "https://localhost:8080/"
        },
        "id": "eLcapDZndkBI",
        "outputId": "865095c3-a1c5-4160-e401-7b1e2f322183"
      },
      "execution_count": null,
      "outputs": [
        {
          "output_type": "execute_result",
          "data": {
            "text/plain": [
              "prediction  labels  dbscan_pred\n",
              "no          no      no             297\n",
              "yes         no      no              97\n",
              "                    yes             41\n",
              "            yes     yes             24\n",
              "                    no              20\n",
              "no          yes     no              14\n",
              "            no      yes              7\n",
              "dtype: int64"
            ]
          },
          "metadata": {},
          "execution_count": 65
        }
      ]
    },
    {
      "cell_type": "code",
      "source": [
        "conf_std=confusion_matrix(df_eval_sample_std.labels, df_eval_sample_std.dbscan_pred)\n",
        "bal_acc(conf_std)"
      ],
      "metadata": {
        "id": "5HsggYJ4doIL",
        "colab": {
          "base_uri": "https://localhost:8080/"
        },
        "outputId": "d0a06853-4dd5-4bea-c239-d4d80ffcace6"
      },
      "execution_count": null,
      "outputs": [
        {
          "output_type": "execute_result",
          "data": {
            "text/plain": [
              "0.6525979091902013"
            ]
          },
          "metadata": {},
          "execution_count": 66
        }
      ]
    },
    {
      "cell_type": "markdown",
      "source": [
        "The balanced accuracy is worse than the kmeans result if the outliers of the model counted as 'yes' and all the values that are in the cluster1 we count as no.\n",
        "\n",
        "At least we see with this parameter set a classification with 2 clusters, so in this aspect the model is working, but the result is poor."
      ],
      "metadata": {
        "id": "14II5s-3HIrF"
      }
    },
    {
      "cell_type": "markdown",
      "source": [
        "## Isolation Forest model"
      ],
      "metadata": {
        "id": "8ewyqvHYZrj6"
      }
    },
    {
      "cell_type": "code",
      "source": [
        "from sklearn.ensemble import IsolationForest\n",
        "from sklearn.model_selection import GridSearchCV"
      ],
      "metadata": {
        "id": "TFuIPIv2G7jM"
      },
      "execution_count": null,
      "outputs": []
    },
    {
      "cell_type": "code",
      "source": [
        "df_labels.loc[df_labels.labels[df_labels.labels==\"no\"].index,\"labels_binary\"]=1\n",
        "df_labels.loc[df_labels.labels[df_labels.labels==\"yes\"].index,\"labels_binary\"]=-1\n",
        "df_labels[df_labels.labels.isna()==False]"
      ],
      "metadata": {
        "colab": {
          "base_uri": "https://localhost:8080/",
          "height": 424
        },
        "id": "NbkYv2Qc0pi-",
        "outputId": "fa35fc1c-d979-4e3f-c7fc-3a2c5b8b409a"
      },
      "execution_count": null,
      "outputs": [
        {
          "output_type": "execute_result",
          "data": {
            "text/plain": [
              "      labels  labels_binary\n",
              "23        no            1.0\n",
              "97        no            1.0\n",
              "254       no            1.0\n",
              "375       no            1.0\n",
              "417       no            1.0\n",
              "...      ...            ...\n",
              "29981    yes           -1.0\n",
              "30098    yes           -1.0\n",
              "30137    yes           -1.0\n",
              "30180     no            1.0\n",
              "30316     no            1.0\n",
              "\n",
              "[500 rows x 2 columns]"
            ],
            "text/html": [
              "\n",
              "  <div id=\"df-d835357e-b3be-4c3e-9ee0-86ec12447c7f\">\n",
              "    <div class=\"colab-df-container\">\n",
              "      <div>\n",
              "<style scoped>\n",
              "    .dataframe tbody tr th:only-of-type {\n",
              "        vertical-align: middle;\n",
              "    }\n",
              "\n",
              "    .dataframe tbody tr th {\n",
              "        vertical-align: top;\n",
              "    }\n",
              "\n",
              "    .dataframe thead th {\n",
              "        text-align: right;\n",
              "    }\n",
              "</style>\n",
              "<table border=\"1\" class=\"dataframe\">\n",
              "  <thead>\n",
              "    <tr style=\"text-align: right;\">\n",
              "      <th></th>\n",
              "      <th>labels</th>\n",
              "      <th>labels_binary</th>\n",
              "    </tr>\n",
              "  </thead>\n",
              "  <tbody>\n",
              "    <tr>\n",
              "      <th>23</th>\n",
              "      <td>no</td>\n",
              "      <td>1.0</td>\n",
              "    </tr>\n",
              "    <tr>\n",
              "      <th>97</th>\n",
              "      <td>no</td>\n",
              "      <td>1.0</td>\n",
              "    </tr>\n",
              "    <tr>\n",
              "      <th>254</th>\n",
              "      <td>no</td>\n",
              "      <td>1.0</td>\n",
              "    </tr>\n",
              "    <tr>\n",
              "      <th>375</th>\n",
              "      <td>no</td>\n",
              "      <td>1.0</td>\n",
              "    </tr>\n",
              "    <tr>\n",
              "      <th>417</th>\n",
              "      <td>no</td>\n",
              "      <td>1.0</td>\n",
              "    </tr>\n",
              "    <tr>\n",
              "      <th>...</th>\n",
              "      <td>...</td>\n",
              "      <td>...</td>\n",
              "    </tr>\n",
              "    <tr>\n",
              "      <th>29981</th>\n",
              "      <td>yes</td>\n",
              "      <td>-1.0</td>\n",
              "    </tr>\n",
              "    <tr>\n",
              "      <th>30098</th>\n",
              "      <td>yes</td>\n",
              "      <td>-1.0</td>\n",
              "    </tr>\n",
              "    <tr>\n",
              "      <th>30137</th>\n",
              "      <td>yes</td>\n",
              "      <td>-1.0</td>\n",
              "    </tr>\n",
              "    <tr>\n",
              "      <th>30180</th>\n",
              "      <td>no</td>\n",
              "      <td>1.0</td>\n",
              "    </tr>\n",
              "    <tr>\n",
              "      <th>30316</th>\n",
              "      <td>no</td>\n",
              "      <td>1.0</td>\n",
              "    </tr>\n",
              "  </tbody>\n",
              "</table>\n",
              "<p>500 rows × 2 columns</p>\n",
              "</div>\n",
              "      <button class=\"colab-df-convert\" onclick=\"convertToInteractive('df-d835357e-b3be-4c3e-9ee0-86ec12447c7f')\"\n",
              "              title=\"Convert this dataframe to an interactive table.\"\n",
              "              style=\"display:none;\">\n",
              "        \n",
              "  <svg xmlns=\"http://www.w3.org/2000/svg\" height=\"24px\"viewBox=\"0 0 24 24\"\n",
              "       width=\"24px\">\n",
              "    <path d=\"M0 0h24v24H0V0z\" fill=\"none\"/>\n",
              "    <path d=\"M18.56 5.44l.94 2.06.94-2.06 2.06-.94-2.06-.94-.94-2.06-.94 2.06-2.06.94zm-11 1L8.5 8.5l.94-2.06 2.06-.94-2.06-.94L8.5 2.5l-.94 2.06-2.06.94zm10 10l.94 2.06.94-2.06 2.06-.94-2.06-.94-.94-2.06-.94 2.06-2.06.94z\"/><path d=\"M17.41 7.96l-1.37-1.37c-.4-.4-.92-.59-1.43-.59-.52 0-1.04.2-1.43.59L10.3 9.45l-7.72 7.72c-.78.78-.78 2.05 0 2.83L4 21.41c.39.39.9.59 1.41.59.51 0 1.02-.2 1.41-.59l7.78-7.78 2.81-2.81c.8-.78.8-2.07 0-2.86zM5.41 20L4 18.59l7.72-7.72 1.47 1.35L5.41 20z\"/>\n",
              "  </svg>\n",
              "      </button>\n",
              "      \n",
              "  <style>\n",
              "    .colab-df-container {\n",
              "      display:flex;\n",
              "      flex-wrap:wrap;\n",
              "      gap: 12px;\n",
              "    }\n",
              "\n",
              "    .colab-df-convert {\n",
              "      background-color: #E8F0FE;\n",
              "      border: none;\n",
              "      border-radius: 50%;\n",
              "      cursor: pointer;\n",
              "      display: none;\n",
              "      fill: #1967D2;\n",
              "      height: 32px;\n",
              "      padding: 0 0 0 0;\n",
              "      width: 32px;\n",
              "    }\n",
              "\n",
              "    .colab-df-convert:hover {\n",
              "      background-color: #E2EBFA;\n",
              "      box-shadow: 0px 1px 2px rgba(60, 64, 67, 0.3), 0px 1px 3px 1px rgba(60, 64, 67, 0.15);\n",
              "      fill: #174EA6;\n",
              "    }\n",
              "\n",
              "    [theme=dark] .colab-df-convert {\n",
              "      background-color: #3B4455;\n",
              "      fill: #D2E3FC;\n",
              "    }\n",
              "\n",
              "    [theme=dark] .colab-df-convert:hover {\n",
              "      background-color: #434B5C;\n",
              "      box-shadow: 0px 1px 3px 1px rgba(0, 0, 0, 0.15);\n",
              "      filter: drop-shadow(0px 1px 2px rgba(0, 0, 0, 0.3));\n",
              "      fill: #FFFFFF;\n",
              "    }\n",
              "  </style>\n",
              "\n",
              "      <script>\n",
              "        const buttonEl =\n",
              "          document.querySelector('#df-d835357e-b3be-4c3e-9ee0-86ec12447c7f button.colab-df-convert');\n",
              "        buttonEl.style.display =\n",
              "          google.colab.kernel.accessAllowed ? 'block' : 'none';\n",
              "\n",
              "        async function convertToInteractive(key) {\n",
              "          const element = document.querySelector('#df-d835357e-b3be-4c3e-9ee0-86ec12447c7f');\n",
              "          const dataTable =\n",
              "            await google.colab.kernel.invokeFunction('convertToInteractive',\n",
              "                                                     [key], {});\n",
              "          if (!dataTable) return;\n",
              "\n",
              "          const docLinkHtml = 'Like what you see? Visit the ' +\n",
              "            '<a target=\"_blank\" href=https://colab.research.google.com/notebooks/data_table.ipynb>data table notebook</a>'\n",
              "            + ' to learn more about interactive tables.';\n",
              "          element.innerHTML = '';\n",
              "          dataTable['output_type'] = 'display_data';\n",
              "          await google.colab.output.renderOutput(dataTable, element);\n",
              "          const docLink = document.createElement('div');\n",
              "          docLink.innerHTML = docLinkHtml;\n",
              "          element.appendChild(docLink);\n",
              "        }\n",
              "      </script>\n",
              "    </div>\n",
              "  </div>\n",
              "  "
            ]
          },
          "metadata": {},
          "execution_count": 117
        }
      ]
    },
    {
      "cell_type": "code",
      "source": [
        "parameters={\"n_estimators\": list(np.linspace(50,200,16).astype('int')), \"contamination\": list(np.linspace(8,15,8)/100)}\n",
        "iso_for=IsolationForest()\n",
        "\n",
        "grids = GridSearchCV(iso_for, parameters, scoring=\"balanced_accuracy\")\n",
        "grids.fit(df_train, df_labels.labels_binary[df_labels.labels_binary.isna()==False])"
      ],
      "metadata": {
        "id": "keETFdpnuLXo"
      },
      "execution_count": null,
      "outputs": []
    },
    {
      "cell_type": "code",
      "source": [
        "grids.best_estimator_"
      ],
      "metadata": {
        "colab": {
          "base_uri": "https://localhost:8080/"
        },
        "id": "MrK4zEJ8wReI",
        "outputId": "f6f1b8b4-35cc-4918-9cf0-7fcb36bf306b"
      },
      "execution_count": null,
      "outputs": [
        {
          "output_type": "execute_result",
          "data": {
            "text/plain": [
              "IsolationForest(contamination=0.09, n_estimators=50)"
            ]
          },
          "metadata": {},
          "execution_count": 122
        }
      ]
    },
    {
      "cell_type": "code",
      "source": [
        "iso_for = IsolationForest(n_estimators=50, contamination=0.09)\n",
        "iso_for.fit(df_comb_std)\n",
        "iso_for_pred = iso_for.predict(df_comb_std)\n"
      ],
      "metadata": {
        "colab": {
          "base_uri": "https://localhost:8080/"
        },
        "id": "0bY8yDyqZw2K",
        "outputId": "045ac86a-c0e9-481f-825e-7b77e0f50ba5"
      },
      "execution_count": null,
      "outputs": [
        {
          "output_type": "stream",
          "name": "stderr",
          "text": [
            "/usr/local/lib/python3.7/dist-packages/sklearn/base.py:451: UserWarning: X does not have valid feature names, but IsolationForest was fitted with feature names\n",
            "  \"X does not have valid feature names, but\"\n"
          ]
        }
      ]
    },
    {
      "cell_type": "code",
      "source": [
        "df_eval_std[\"iso_forest_pred\"]=iso_for_pred\n",
        "df_eval_std.loc[df_eval_std.iso_forest_pred==1, \"iso_forest_pred\"]=\"no\"\n",
        "df_eval_std.loc[df_eval_std.iso_forest_pred==-1, \"iso_forest_pred\"]=\"yes\"\n",
        "df_eval_sample_std=df_eval_std.drop(df_eval_std.loc[df_eval_std[\"labels\"].isna()==True].index)\n",
        "df_eval_sample_std.value_counts()"
      ],
      "metadata": {
        "colab": {
          "base_uri": "https://localhost:8080/"
        },
        "id": "F_8Z3o7pcINu",
        "outputId": "a43f873e-e473-42db-c7a9-06114cf91a53"
      },
      "execution_count": null,
      "outputs": [
        {
          "output_type": "execute_result",
          "data": {
            "text/plain": [
              "prediction  labels  dbscan_pred  iso_forest_pred\n",
              "no          no      no           no                 292\n",
              "yes         no      no           no                  91\n",
              "                    yes          no                  22\n",
              "            yes     no           no                  20\n",
              "            no      yes          yes                 19\n",
              "no          yes     no           no                  13\n",
              "yes         yes     yes          yes                 13\n",
              "                                 no                  11\n",
              "no          no      yes          no                   6\n",
              "yes         no      no           yes                  6\n",
              "no          no      no           yes                  5\n",
              "                    yes          yes                  1\n",
              "            yes     no           yes                  1\n",
              "dtype: int64"
            ]
          },
          "metadata": {},
          "execution_count": 124
        }
      ]
    },
    {
      "cell_type": "code",
      "source": [
        "conf_std=confusion_matrix(df_eval_sample_std.labels, df_eval_sample_std.iso_forest_pred)\n",
        "bal_acc(conf_std)"
      ],
      "metadata": {
        "colab": {
          "base_uri": "https://localhost:8080/"
        },
        "id": "vpvCkXcicMJm",
        "outputId": "ffe5640f-1893-41b6-f3e0-da435d50ea5a"
      },
      "execution_count": null,
      "outputs": [
        {
          "output_type": "execute_result",
          "data": {
            "text/plain": [
              "0.5856217818692464"
            ]
          },
          "metadata": {},
          "execution_count": 125
        }
      ]
    },
    {
      "cell_type": "code",
      "source": [
        "cm_disp(conf_std).plot()\n",
        "plt.show()"
      ],
      "metadata": {
        "colab": {
          "base_uri": "https://localhost:8080/",
          "height": 279
        },
        "id": "xNd4orj-9yLs",
        "outputId": "1a81ddd4-a9e4-40fb-b977-5304477c5dce"
      },
      "execution_count": null,
      "outputs": [
        {
          "output_type": "display_data",
          "data": {
            "text/plain": [
              "<Figure size 432x288 with 2 Axes>"
            ],
            "image/png": "[encoded data removed]"
          },
          "metadata": {
            "needs_background": "light"
          }
        }
      ]
    },
    {
      "cell_type": "markdown",
      "source": [
        "And this is why I do not use gridsearchCV, it simply does not find the best parameters. Running the model with best parameter set offered by it resulted in a 58% balanced accuracy.\n",
        "\n",
        "If I run the model with a different set it is better."
      ],
      "metadata": {
        "id": "7dwp4y_T87l2"
      }
    },
    {
      "cell_type": "code",
      "source": [
        "iso_for = IsolationForest(n_estimators=100, contamination=0.135)\n",
        "iso_for.fit(df_comb_std)\n",
        "iso_for_pred = iso_for.predict(df_comb_std)\n",
        "\n",
        "df_eval_std[\"iso_forest_pred\"]=iso_for_pred\n",
        "df_eval_std.loc[df_eval_std.iso_forest_pred==1, \"iso_forest_pred\"]=\"no\"\n",
        "df_eval_std.loc[df_eval_std.iso_forest_pred==-1, \"iso_forest_pred\"]=\"yes\"\n",
        "df_eval_sample_std=df_eval_std.drop(df_eval_std.loc[df_eval_std[\"labels\"].isna()==True].index)\n",
        "df_eval_sample_std.value_counts()\n",
        "\n",
        "conf_std=confusion_matrix(df_eval_sample_std.labels, df_eval_sample_std.iso_forest_pred)\n",
        "print(\"\\n balanced accuracy:\", bal_acc(conf_std))\n",
        "\n",
        "cm_disp(conf_std).plot()\n",
        "plt.show()"
      ],
      "metadata": {
        "colab": {
          "base_uri": "https://localhost:8080/",
          "height": 352
        },
        "id": "DPfGpQZbfVVW",
        "outputId": "b2ddd3cd-0f66-4061-b76f-0e3ea77aac53"
      },
      "execution_count": null,
      "outputs": [
        {
          "output_type": "stream",
          "name": "stderr",
          "text": [
            "/usr/local/lib/python3.7/dist-packages/sklearn/base.py:451: UserWarning: X does not have valid feature names, but IsolationForest was fitted with feature names\n",
            "  \"X does not have valid feature names, but\"\n"
          ]
        },
        {
          "output_type": "stream",
          "name": "stdout",
          "text": [
            "\n",
            " balanced accuracy: 0.6181151505695117\n"
          ]
        },
        {
          "output_type": "display_data",
          "data": {
            "text/plain": [
              "<Figure size 432x288 with 2 Axes>"
            ],
            "image/png": "[encoded data removed]"
          },
          "metadata": {
            "needs_background": "light"
          }
        }
      ]
    },
    {
      "cell_type": "markdown",
      "source": [
        "Still, this model does not beat the K-means model on the standardized input data."
      ],
      "metadata": {
        "id": "BWhgCPaU-3Fb"
      }
    },
    {
      "cell_type": "code",
      "source": [],
      "metadata": {
        "id": "w9mL6wXC-wEd"
      },
      "execution_count": null,
      "outputs": []
    }
  ]
}